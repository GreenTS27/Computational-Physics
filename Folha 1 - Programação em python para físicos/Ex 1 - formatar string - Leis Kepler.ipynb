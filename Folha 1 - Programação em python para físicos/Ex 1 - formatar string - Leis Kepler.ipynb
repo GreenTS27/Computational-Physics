{
 "cells": [
  {
   "cell_type": "code",
   "execution_count": 12,
   "metadata": {},
   "outputs": [],
   "source": [
    "def space(v1,l1):\n",
    "    import numpy as np\n",
    "    M = 1.9891*10**30\n",
    "    G = 6.6738*10**(-11)\n",
    "    \n",
    "    a = 1\n",
    "    b = -2*G*M/(v1*l1)\n",
    "    c = -(v1**2 - 2*G*M/l1)\n",
    "    raiz = b**2 - 4*a*c\n",
    "    \n",
    "    v2 = min((-b-raiz**(1/2))/(2*a),(-b-raiz**(1/2))/(2*a))\n",
    "    l2 = l1*v1/v2\n",
    "    \n",
    "    Em = (l1*l2)**(1/2)\n",
    "    EM = 1/2 * (l1+l2)\n",
    "    T = (2*np.pi*Em*EM/(l1*v1))/(60*60*24*365.25) #em anos\n",
    "    e = (l2-l1)/(l2+l1)\n",
    "    \n",
    "    return F'''l_2 = {l2} (m); v2 = {v2} (m/s); T = {T} (anos); e = {e}'''\n"
   ]
  },
  {
   "cell_type": "code",
   "execution_count": 13,
   "metadata": {},
   "outputs": [
    {
     "data": {
      "text/plain": [
       "'l_2 = 152027197208.66058 (m); v2 = 29305.399177261148 (m/s); T = 0.9995392617907276 (anos); e = 0.016471913134744297'"
      ]
     },
     "execution_count": 13,
     "metadata": {},
     "output_type": "execute_result"
    }
   ],
   "source": [
    "space(3.0287*10**4, 1.4710*10**11) #dados sobre a Terra"
   ]
  },
  {
   "cell_type": "code",
   "execution_count": null,
   "metadata": {},
   "outputs": [],
   "source": []
  }
 ],
 "metadata": {
  "kernelspec": {
   "display_name": "Python 3",
   "language": "python",
   "name": "python3"
  },
  "language_info": {
   "codemirror_mode": {
    "name": "ipython",
    "version": 3
   },
   "file_extension": ".py",
   "mimetype": "text/x-python",
   "name": "python",
   "nbconvert_exporter": "python",
   "pygments_lexer": "ipython3",
   "version": "3.9.4"
  }
 },
 "nbformat": 4,
 "nbformat_minor": 4
}
