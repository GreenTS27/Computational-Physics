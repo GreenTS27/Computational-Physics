{
 "cells": [
  {
   "cell_type": "code",
   "execution_count": 110,
   "metadata": {},
   "outputs": [],
   "source": [
    "def Madelung(L,a): #somar todos os Vs entre (-L,-L,-L) e (L,L,L)\n",
    "    e = -1.602176634e-19 #Coulomb\n",
    "    e0= 8.8541878176e-12 #C^2 N^-1 m^-2\n",
    "    \n",
    "    VTotal = 0.0\n",
    "    c=0\n",
    "    for i in range(-L,L+1):    \n",
    "        for j in range(-L,L+1):\n",
    "            for k in range(-L,L+1):\n",
    "                if i == 0 and j == 0 and k == 0:\n",
    "                    VTotal += 0\n",
    "                elif abs(i+j+k) % 2 == 0:\n",
    "                    VTotal += e / (4*np.pi*e0*a*np.sqrt(i**2+j**2+k**2))\n",
    "                else:\n",
    "                    VTotal -= e / (4*np.pi*e0*a*np.sqrt(i**2+j**2+k**2))\n",
    "                \n",
    "    M = VTotal*4*np.pi*e0*a/e\n",
    "    return M\n",
    "#Quano maior for L melhor será a aproximação\n",
    "#Comparar com o valor exato para o NaCl: −1,748"
   ]
  },
  {
   "cell_type": "code",
   "execution_count": 111,
   "metadata": {},
   "outputs": [
    {
     "data": {
      "text/plain": [
       "-1.6925789282594297"
      ]
     },
     "execution_count": 111,
     "metadata": {},
     "output_type": "execute_result"
    }
   ],
   "source": [
    "Madelung(10,0.000000000564)"
   ]
  }
 ],
 "metadata": {
  "kernelspec": {
   "display_name": "Python 3",
   "language": "python",
   "name": "python3"
  },
  "language_info": {
   "codemirror_mode": {
    "name": "ipython",
    "version": 3
   },
   "file_extension": ".py",
   "mimetype": "text/x-python",
   "name": "python",
   "nbconvert_exporter": "python",
   "pygments_lexer": "ipython3",
   "version": "3.9.4"
  }
 },
 "nbformat": 4,
 "nbformat_minor": 4
}
