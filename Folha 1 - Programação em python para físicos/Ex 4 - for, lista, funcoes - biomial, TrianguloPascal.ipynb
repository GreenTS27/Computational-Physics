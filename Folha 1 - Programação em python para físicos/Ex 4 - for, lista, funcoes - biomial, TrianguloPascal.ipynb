{
 "cells": [
  {
   "cell_type": "code",
   "execution_count": 1,
   "metadata": {},
   "outputs": [],
   "source": [
    "# podia ter feito isto em duas funções, uma po fatorial e outra po binomial\n",
    "def binomial(n,k):\n",
    "    if k > n:\n",
    "        return \"Era bem mano, mas o K tem que ser menor que N. Fatorial implica nº natural\"\n",
    "    elif k == 0:\n",
    "        return 1\n",
    "    \n",
    "    N_fat = 1\n",
    "    for i in range(1,n+1):\n",
    "        N_fat *= i\n",
    "    \n",
    "    K_fat = 1\n",
    "    for j in range(1,k+1):\n",
    "        K_fat *= j\n",
    "        \n",
    "    N_menos_K = n - k\n",
    "    N_menos_Kfat = 1\n",
    "    for l in range(1,N_menos_K+1):\n",
    "        N_menos_Kfat *= l \n",
    "    \n",
    "    return int(N_fat / (K_fat * N_menos_Kfat) )"
   ]
  },
  {
   "cell_type": "code",
   "execution_count": 2,
   "metadata": {},
   "outputs": [
    {
     "data": {
      "text/plain": [
       "888030"
      ]
     },
     "execution_count": 2,
     "metadata": {},
     "output_type": "execute_result"
    }
   ],
   "source": [
    "binomial(27,7)"
   ]
  },
  {
   "cell_type": "code",
   "execution_count": 3,
   "metadata": {},
   "outputs": [],
   "source": [
    "def TrianguloPascal(n):\n",
    "\n",
    "    a = 1\n",
    "    for i in range(1,n+1): #faz uma linha do triangulo de cada vez\n",
    "        linha = []\n",
    "         \n",
    "        for j in range(0,a+1): #faz um elemento da linha de cada vez\n",
    "            linha.append(binomial(a,j))\n",
    "        \n",
    "        print(linha)\n",
    "        a +=1"
   ]
  },
  {
   "cell_type": "code",
   "execution_count": 4,
   "metadata": {},
   "outputs": [
    {
     "name": "stdout",
     "output_type": "stream",
     "text": [
      "[1, 1]\n",
      "[1, 2, 1]\n",
      "[1, 3, 3, 1]\n",
      "[1, 4, 6, 4, 1]\n",
      "[1, 5, 10, 10, 5, 1]\n",
      "[1, 6, 15, 20, 15, 6, 1]\n",
      "[1, 7, 21, 35, 35, 21, 7, 1]\n",
      "[1, 8, 28, 56, 70, 56, 28, 8, 1]\n",
      "[1, 9, 36, 84, 126, 126, 84, 36, 9, 1]\n",
      "[1, 10, 45, 120, 210, 252, 210, 120, 45, 10, 1]\n",
      "[1, 11, 55, 165, 330, 462, 462, 330, 165, 55, 11, 1]\n",
      "[1, 12, 66, 220, 495, 792, 924, 792, 495, 220, 66, 12, 1]\n",
      "[1, 13, 78, 286, 715, 1287, 1716, 1716, 1287, 715, 286, 78, 13, 1]\n",
      "[1, 14, 91, 364, 1001, 2002, 3003, 3432, 3003, 2002, 1001, 364, 91, 14, 1]\n",
      "[1, 15, 105, 455, 1365, 3003, 5005, 6435, 6435, 5005, 3003, 1365, 455, 105, 15, 1]\n",
      "[1, 16, 120, 560, 1820, 4368, 8008, 11440, 12870, 11440, 8008, 4368, 1820, 560, 120, 16, 1]\n",
      "[1, 17, 136, 680, 2380, 6188, 12376, 19448, 24310, 24310, 19448, 12376, 6188, 2380, 680, 136, 17, 1]\n",
      "[1, 18, 153, 816, 3060, 8568, 18564, 31824, 43758, 48620, 43758, 31824, 18564, 8568, 3060, 816, 153, 18, 1]\n",
      "[1, 19, 171, 969, 3876, 11628, 27132, 50388, 75582, 92378, 92378, 75582, 50388, 27132, 11628, 3876, 969, 171, 19, 1]\n",
      "[1, 20, 190, 1140, 4845, 15504, 38760, 77520, 125970, 167960, 184756, 167960, 125970, 77520, 38760, 15504, 4845, 1140, 190, 20, 1]\n"
     ]
    }
   ],
   "source": [
    "TrianguloPascal(20)"
   ]
  },
  {
   "cell_type": "code",
   "execution_count": 5,
   "metadata": {},
   "outputs": [
    {
     "name": "stdout",
     "output_type": "stream",
     "text": [
      "0.010843866711637987\n"
     ]
    }
   ],
   "source": [
    "def ProbMoeda(n,k):   #n é o nº de lançamentos, k é o nº de caras\n",
    "    return binomial(n,k) / (2**n) \n",
    "\n",
    "print(ProbMoeda(100,60)) #probabilidade de sairem EXATAMENTE 60 caras em 100 lançamentos"
   ]
  },
  {
   "cell_type": "code",
   "execution_count": 6,
   "metadata": {},
   "outputs": [
    {
     "name": "stdout",
     "output_type": "stream",
     "text": [
      "0.44459853517715775\n"
     ]
    }
   ],
   "source": [
    "def ProbMoeda2(n,k):   #n é o nº de lançamentos, k é o nº de caras\n",
    "    sol = 0\n",
    "    for i in range(k,n+1): # P(k caras) + P(k+1 caras) + ... + P(n caras) , em n lançamentos \n",
    "        sol += binomial(n,k) / (2**n) \n",
    "    return sol\n",
    "\n",
    "print(ProbMoeda2(100,60)) #probabilidade de sairem 60 OU MAIS caras em 100 lançamentos"
   ]
  },
  {
   "cell_type": "code",
   "execution_count": null,
   "metadata": {},
   "outputs": [],
   "source": []
  }
 ],
 "metadata": {
  "kernelspec": {
   "display_name": "Python 3",
   "language": "python",
   "name": "python3"
  },
  "language_info": {
   "codemirror_mode": {
    "name": "ipython",
    "version": 3
   },
   "file_extension": ".py",
   "mimetype": "text/x-python",
   "name": "python",
   "nbconvert_exporter": "python",
   "pygments_lexer": "ipython3",
   "version": "3.9.4"
  }
 },
 "nbformat": 4,
 "nbformat_minor": 4
}
