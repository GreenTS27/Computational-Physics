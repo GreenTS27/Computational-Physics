{
 "cells": [
  {
   "cell_type": "code",
   "execution_count": 57,
   "metadata": {},
   "outputs": [
    {
     "name": "stdout",
     "output_type": "stream",
     "text": [
      "8.965199470901317e+56\n"
     ]
    }
   ],
   "source": [
    "def Catalan(n):\n",
    "    if n == 0:\n",
    "        return 1\n",
    "    else:\n",
    "        return (4*n-2) / (n+1) * Catalan(n-1)\n",
    "print(Catalan(100))"
   ]
  },
  {
   "cell_type": "code",
   "execution_count": 1,
   "metadata": {},
   "outputs": [
    {
     "name": "stdout",
     "output_type": "stream",
     "text": [
      "108 192\n",
      "192 108\n",
      "108 84\n",
      "84 24\n",
      "24 12\n",
      "12 0\n",
      "12\n"
     ]
    }
   ],
   "source": [
    "# Maior divisor comum entre dois nº\n",
    "def g(m,n):\n",
    "    #print(m,n)\n",
    "    if n == 0:\n",
    "        return m\n",
    "    else:\n",
    "        return g(n, m % n)\n",
    "print(g(108,192))"
   ]
  },
  {
   "cell_type": "code",
   "execution_count": null,
   "metadata": {},
   "outputs": [],
   "source": []
  }
 ],
 "metadata": {
  "kernelspec": {
   "display_name": "Python 3",
   "language": "python",
   "name": "python3"
  },
  "language_info": {
   "codemirror_mode": {
    "name": "ipython",
    "version": 3
   },
   "file_extension": ".py",
   "mimetype": "text/x-python",
   "name": "python",
   "nbconvert_exporter": "python",
   "pygments_lexer": "ipython3",
   "version": "3.9.4"
  }
 },
 "nbformat": 4,
 "nbformat_minor": 4
}
