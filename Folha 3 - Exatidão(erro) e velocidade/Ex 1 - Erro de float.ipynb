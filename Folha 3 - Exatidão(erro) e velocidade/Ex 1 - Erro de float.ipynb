{
 "cells": [
  {
   "cell_type": "code",
   "execution_count": 2,
   "metadata": {},
   "outputs": [],
   "source": [
    "def fatorial(n):\n",
    "    sol = 1\n",
    "    for i in range(1,n+1):\n",
    "        sol *= i\n",
    "    return sol\n",
    "\n",
    "def fatorial_float(n):\n",
    "    sol = 1.0\n",
    "    for i in range(1,n+1):\n",
    "        sol *= i\n",
    "    return sol"
   ]
  },
  {
   "cell_type": "code",
   "execution_count": 8,
   "metadata": {},
   "outputs": [
    {
     "name": "stdout",
     "output_type": "stream",
     "text": [
      "93326215443944152681699238856266700490715968264381621468592963895217599993229915608941463976156518286253697920827223758251185210916864000000000000000000000000\n",
      "---\n",
      "9.33262154439441e+157\n",
      "---\n",
      "---\n",
      "---\n",
      "788657867364790503552363213932185062295135977687173263294742533244359449963403342920304284011984623904177212138919638830257642790242637105061926624952829931113462857270763317237396988943922445621451664240254033291864131227428294853277524242407573903240321257405579568660226031904170324062351700858796178922222789623703897374720000000000000000000000000000000000000000000000000\n",
      "---\n",
      "inf\n"
     ]
    }
   ],
   "source": [
    "print(fatorial(100))\n",
    "print(\"---\")\n",
    "print(fatorial_float(100))\n",
    "\n",
    "print(\"---\")\n",
    "print(\"---\")\n",
    "print(\"---\")\n",
    "\n",
    "print(fatorial(200))\n",
    "print(\"---\")\n",
    "print(fatorial_float(200))"
   ]
  },
  {
   "cell_type": "markdown",
   "metadata": {},
   "source": [
    "Quando fazemos o cálculo de fatorial com casas decimais obtemos \"inf\", pois temos um erro de overflow.\n",
    "\n",
    "Isto é, o número de casas decimais é maior do que o maior número possível que o python aceita."
   ]
  }
 ],
 "metadata": {
  "kernelspec": {
   "display_name": "Python 3",
   "language": "python",
   "name": "python3"
  },
  "language_info": {
   "codemirror_mode": {
    "name": "ipython",
    "version": 3
   },
   "file_extension": ".py",
   "mimetype": "text/x-python",
   "name": "python",
   "nbconvert_exporter": "python",
   "pygments_lexer": "ipython3",
   "version": "3.9.4"
  }
 },
 "nbformat": 4,
 "nbformat_minor": 4
}
