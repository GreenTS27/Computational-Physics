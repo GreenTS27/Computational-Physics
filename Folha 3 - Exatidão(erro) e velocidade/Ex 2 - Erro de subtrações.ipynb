{
 "cells": [
  {
   "cell_type": "code",
   "execution_count": 29,
   "metadata": {},
   "outputs": [
    {
     "name": "stdout",
     "output_type": "stream",
     "text": [
      "(-9.999894245993346e-07, -999999.999999)\n",
      "---\n",
      "(-1.000000000001e-06, -1000010.5755125057)\n",
      "---\n"
     ]
    }
   ],
   "source": [
    "def formula_resolvente1(a,b,c):\n",
    "    x1 = (-b + (b**2 - 4*a*c)**(1/2)) / (2*a)\n",
    "    x2 = (-b - (b**2 - 4*a*c)**(1/2)) / (2*a)\n",
    "    return x1,x2\n",
    "\n",
    "def formula_resolvente2(a,b,c): #multiplicar em cima e em baixo pelo conjugado do numerador\n",
    "    x1 = (2*c) / (-b - (b**2 - 4*a*c)**(1/2))\n",
    "    x2 = (2*c) / (-b + (b**2 - 4*a*c)**(1/2))\n",
    "    return x1,x2\n",
    "\n",
    "print( formula_resolvente1(0.001, 1000, 0.001) )\n",
    "print( \"---\" )\n",
    "print( formula_resolvente2(0.001, 1000, 0.001) )\n",
    "print( \"---\" )"
   ]
  },
  {
   "cell_type": "markdown",
   "metadata": {},
   "source": [
    "Os valores obtidos são aproximadamente iguais, mas não são exatamente o mesmo, pelo menos um valor dos obtidos está errado.\n",
    "\n",
    "Como \n",
    "$$ 4 a c \\approx 10^{-6} << b^2$$ \n",
    "temos que \n",
    "$$ \\sqrt{b^2 - 4ac} \\approx \\sqrt{b^2} = b$$\n",
    "Portanto, \n",
    "$$-b + \\sqrt{b^2 - 4ac} \\approx 0$$\n",
    "\n",
    "É aqui que o python falha, na diferença entre números quase iguais.\n",
    "\n",
    "Assim, para fugir a este problema vou usar o valor da soma (de dois números negativos) da formula_resolvente1 (x2) e o da formula_resolvente2 (x1)."
   ]
  },
  {
   "cell_type": "code",
   "execution_count": 31,
   "metadata": {},
   "outputs": [
    {
     "name": "stdout",
     "output_type": "stream",
     "text": [
      "(-9.999894245993346e-07, -999999.999999)\n",
      "---\n",
      "(-1.000000000001e-06, -1000010.5755125057)\n",
      "---\n",
      "Este é o q interessa ---> (-1.000000000001e-06, -999999.999999)\n"
     ]
    }
   ],
   "source": [
    "def formula_resolvente_melhorada(a,b,c):\n",
    "    x1 = (2*c) / (-b - (b**2 - 4*a*c)**(1/2))\n",
    "    x2 = (-b - (b**2 - 4*a*c)**(1/2)) / (2*a)\n",
    "    return x1,x2\n",
    "\n",
    "print( formula_resolvente1(0.001, 1000, 0.001) )\n",
    "print( \"---\" )\n",
    "print( formula_resolvente2(0.001, 1000, 0.001) )\n",
    "print( \"---\" )\n",
    "print(\"Este é o q interessa --->\", formula_resolvente_melhorada(0.001, 1000, 0.001) )"
   ]
  },
  {
   "cell_type": "code",
   "execution_count": null,
   "metadata": {},
   "outputs": [],
   "source": []
  }
 ],
 "metadata": {
  "kernelspec": {
   "display_name": "Python 3",
   "language": "python",
   "name": "python3"
  },
  "language_info": {
   "codemirror_mode": {
    "name": "ipython",
    "version": 3
   },
   "file_extension": ".py",
   "mimetype": "text/x-python",
   "name": "python",
   "nbconvert_exporter": "python",
   "pygments_lexer": "ipython3",
   "version": "3.9.4"
  }
 },
 "nbformat": 4,
 "nbformat_minor": 4
}
