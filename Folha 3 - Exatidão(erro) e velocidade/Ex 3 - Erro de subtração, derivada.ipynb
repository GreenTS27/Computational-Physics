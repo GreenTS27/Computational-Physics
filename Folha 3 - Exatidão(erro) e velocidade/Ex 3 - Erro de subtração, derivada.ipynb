{
 "cells": [
  {
   "cell_type": "code",
   "execution_count": 29,
   "metadata": {},
   "outputs": [],
   "source": [
    "def f(x):\n",
    "    return x*(x-1)\n",
    "\n",
    "def derivada(x, h):\n",
    "    return (f(x+h) - f(x)) / h\n",
    "\n",
    "# Calculando a derivada analítica obtemos --->  f'(1) = 1  <---"
   ]
  },
  {
   "cell_type": "markdown",
   "metadata": {},
   "source": [
    "$ \\frac{df}{dx} = \\displaystyle{ \\lim_{h \\to 0} } \\frac{f(x+h) - f(x)}{h}$"
   ]
  },
  {
   "cell_type": "code",
   "execution_count": 30,
   "metadata": {},
   "outputs": [
    {
     "name": "stdout",
     "output_type": "stream",
     "text": [
      "1.010000000000001\n",
      "1.0000999999998899\n",
      "1.0000009999177333\n",
      "1.0000000039225287 <--- este é o mais próximo de 1\n",
      "1.000000082840371\n",
      "1.0000889005833413\n",
      "0.9992007221626509\n",
      "0.0\n"
     ]
    }
   ],
   "source": [
    "print( derivada(1,10**(-2)) )\n",
    "print( derivada(1,10**(-4)) )\n",
    "print( derivada(1,10**(-6)) )\n",
    "print( derivada(1,10**(-8)) ,\"<--- este é o mais próximo de 1\")\n",
    "print( derivada(1,10**(-10)) )\n",
    "print( derivada(1,10**(-12)) )\n",
    "print( derivada(1,10**(-14)) )\n",
    "print( derivada(1,10**(-16)) )"
   ]
  },
  {
   "cell_type": "markdown",
   "metadata": {},
   "source": [
    "À medida que $\\textbf{h}$ diminui, o valor da drivada fica cada vez mais próximo do real ( 1 ).\n",
    "\n",
    "Contudo, a certa altura este valor deixa de se aproximar de 1 e começa a afastar-se devido ao facto do computador ter dificuldade em subtrair dois números quase iguais, isto acontece em: $f(x+h) - f(x)$."
   ]
  },
  {
   "cell_type": "code",
   "execution_count": null,
   "metadata": {},
   "outputs": [],
   "source": []
  }
 ],
 "metadata": {
  "kernelspec": {
   "display_name": "Python 3",
   "language": "python",
   "name": "python3"
  },
  "language_info": {
   "codemirror_mode": {
    "name": "ipython",
    "version": 3
   },
   "file_extension": ".py",
   "mimetype": "text/x-python",
   "name": "python",
   "nbconvert_exporter": "python",
   "pygments_lexer": "ipython3",
   "version": "3.9.4"
  }
 },
 "nbformat": 4,
 "nbformat_minor": 4
}
