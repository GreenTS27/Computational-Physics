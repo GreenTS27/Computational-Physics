{
 "cells": [
  {
   "cell_type": "markdown",
   "metadata": {},
   "source": [
    "$I = \\int_{-1}^{1}{\\sqrt{1 - x^2}dx} = \\frac{\\pi}{2} = 1.57079632679 . . .$\n",
    "\n",
    "Ou\n",
    "\n",
    "$I = \\displaystyle{ \\lim_{N \\to \\infty} } \\sum_{k=1}^{N} h y_k  = \\sum_{k=1}^{\\infty} h y_k $\n",
    "\n",
    "Em que:\n",
    "\n",
    "$h= \\frac{b-a}{N} = \\frac{1-(-1)}{N} = \\frac{2}{N} \\quad ; \\quad y_k = \\sqrt{1 - x_k^2} \\quad ; \\quad x_k = -1 + hk$"
   ]
  },
  {
   "cell_type": "code",
   "execution_count": 12,
   "metadata": {},
   "outputs": [
    {
     "name": "stdout",
     "output_type": "stream",
     "text": [
      "530 ms ± 39.2 ms per loop (mean ± std. dev. of 7 runs, 1 loop each)\n"
     ]
    }
   ],
   "source": [
    "#valor real = 1.57079632679...\n",
    "def I(N):\n",
    "    h = 2/N\n",
    "    soma = 0\n",
    "    for k in range(1,N+1):\n",
    "        x_k = -1 + h * k\n",
    "        y_k = ( 1-x_k**2 )**(1/2)\n",
    "        soma += h * y_k\n",
    "    return soma\n",
    "\n",
    "%timeit I(10**6)"
   ]
  },
  {
   "cell_type": "code",
   "execution_count": 18,
   "metadata": {},
   "outputs": [
    {
     "data": {
      "text/plain": [
       "1.5707963251317274"
      ]
     },
     "execution_count": 18,
     "metadata": {},
     "output_type": "execute_result"
    }
   ],
   "source": [
    "I(10**6)"
   ]
  }
 ],
 "metadata": {
  "kernelspec": {
   "display_name": "Python 3",
   "language": "python",
   "name": "python3"
  },
  "language_info": {
   "codemirror_mode": {
    "name": "ipython",
    "version": 3
   },
   "file_extension": ".py",
   "mimetype": "text/x-python",
   "name": "python",
   "nbconvert_exporter": "python",
   "pygments_lexer": "ipython3",
   "version": "3.9.4"
  }
 },
 "nbformat": 4,
 "nbformat_minor": 4
}
