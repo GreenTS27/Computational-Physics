{
 "cells": [
  {
   "cell_type": "markdown",
   "metadata": {},
   "source": [
    "### $\\int_0^2 (x^4 - 2x + 1) dx = 4.4$\n",
    "\n",
    "## Regra de Simpson\n",
    "\n",
    "$\\int_a^b f(x) dx = I(a,b) = \n",
    "\\frac{1}{3}h \\left[ f(a) + f(b) + \\displaystyle{ 4\\sum_{k \\, ímpar} f(a +kh) + 2\\sum_{k \\, par } f(a +kh)} \\right]$\n",
    "\n",
    "## Regra do Trapézio\n",
    "\n",
    "$\\int_a^b f(x) dx = I(a,b) = \n",
    "h \\left[ \\frac{1}{2}f(a) + \\frac{1}{2}f(b) + \\displaystyle{\\sum_{k=1}^{N-1} f(a +kh)} \\right]$"
   ]
  },
  {
   "cell_type": "code",
   "execution_count": 20,
   "metadata": {},
   "outputs": [],
   "source": [
    "def f(x):\n",
    "    return x**4 - 2*x + 1\n",
    "\n",
    "def IntegralSimp(a,b,N): # a=0 , b=2\n",
    "    h = (b-a)/N\n",
    "    somaPar = 0\n",
    "    somaImpar = 0\n",
    "    for k in range(2,N,2): #valores pares de k\n",
    "        somaPar += f(a + k*h )\n",
    "        \n",
    "    for k in range(1,N,2): #valores ímpares de k\n",
    "        somaImpar += f(a + k*h)\n",
    "        \n",
    "    return 1/3 * h * (f(a) + f(b) + 4*somaImpar + 2*somaPar)\n",
    "#valor exato = 4.4\n",
    "\n",
    "def IntegralTrap(a,b,N):\n",
    "    h = (b-a)/N\n",
    "    soma = 0   \n",
    "    for k in range(1,N):\n",
    "        soma += f(a + k*h)\n",
    "        \n",
    "    return  h * (0.5*f(a) + 0.5*f(b) + soma)"
   ]
  },
  {
   "cell_type": "code",
   "execution_count": 22,
   "metadata": {},
   "outputs": [
    {
     "name": "stdout",
     "output_type": "stream",
     "text": [
      "0.009696969696972665\n",
      "2.4218181818181814\n"
     ]
    }
   ],
   "source": [
    "# % erro\n",
    "print( abs( IntegralSimp(0,2,10) - 4.4 ) / 4.4 * 100 )\n",
    "print( abs( IntegralTrap(0,2,10) - 4.4 ) / 4.4 * 100 )"
   ]
  },
  {
   "cell_type": "code",
   "execution_count": 23,
   "metadata": {},
   "outputs": [
    {
     "name": "stdout",
     "output_type": "stream",
     "text": [
      "9.69696969186564e-07\n",
      "0.024242181818179272\n"
     ]
    }
   ],
   "source": [
    "# % erro\n",
    "print( abs( IntegralSimp(0,2,100) - 4.4 ) / 4.4 * 100 )\n",
    "print( abs( IntegralTrap(0,2,100) - 4.4 ) / 4.4 * 100 )"
   ]
  },
  {
   "cell_type": "code",
   "execution_count": 24,
   "metadata": {},
   "outputs": [
    {
     "name": "stdout",
     "output_type": "stream",
     "text": [
      "9.697293473271367e-11\n",
      "0.00024242421817452256\n"
     ]
    }
   ],
   "source": [
    "# % erro\n",
    "print( abs( IntegralSimp(0,2,1000) - 4.4 ) / 4.4 * 100 )\n",
    "print( abs( IntegralTrap(0,2,1000) - 4.4 ) / 4.4 * 100 )"
   ]
  },
  {
   "cell_type": "markdown",
   "metadata": {},
   "source": [
    "### Com a Regra de Simpson obtemos um valor muito mais preciso."
   ]
  }
 ],
 "metadata": {
  "kernelspec": {
   "display_name": "Python 3",
   "language": "python",
   "name": "python3"
  },
  "language_info": {
   "codemirror_mode": {
    "name": "ipython",
    "version": 3
   },
   "file_extension": ".py",
   "mimetype": "text/x-python",
   "name": "python",
   "nbconvert_exporter": "python",
   "pygments_lexer": "ipython3",
   "version": "3.9.4"
  }
 },
 "nbformat": 4,
 "nbformat_minor": 4
}
