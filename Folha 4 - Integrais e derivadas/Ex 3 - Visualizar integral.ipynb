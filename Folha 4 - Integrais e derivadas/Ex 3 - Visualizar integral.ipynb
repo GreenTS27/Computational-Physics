{
 "cells": [
  {
   "cell_type": "markdown",
   "metadata": {},
   "source": [
    "### $E(x) = \\int_0^x e^{-t^2} dt$"
   ]
  },
  {
   "cell_type": "code",
   "execution_count": 2,
   "metadata": {},
   "outputs": [
    {
     "data": {
      "image/png": "[encoded data removed]",
      "text/plain": [
       "<Figure size 432x288 with 1 Axes>"
      ]
     },
     "metadata": {
      "needs_background": "light"
     },
     "output_type": "display_data"
    }
   ],
   "source": [
    "import numpy as np\n",
    "import matplotlib.pyplot as plt\n",
    "\n",
    "def f(t):\n",
    "    return np.exp(-t**2)\n",
    "def E_Simp(a,b,N): # a=0 , b=x\n",
    "    h = (b-a)/N\n",
    "    somaPar = 0\n",
    "    somaImpar = 0\n",
    "    for k in range(2,N,2): #valores pares de k\n",
    "        somaPar += f(a + k*h )\n",
    "        \n",
    "    for k in range(1,N,2): #valores ímpares de k\n",
    "        somaImpar += f(a + k*h)\n",
    "        \n",
    "    return 1/3 * h * (f(a) + f(b) + 4*somaImpar + 2*somaPar)\n",
    "# x pertence [0,3]\n",
    "x = np.linspace(0,3,30) # vai de 0.1 em 0.1\n",
    "y = np.zeros(x.shape)\n",
    "\n",
    "for i in range(0,30): # vai de 0 a 30 de 1 em 1, isto é o msm que ir de 0 a 3 de 0.1 em 0.1\n",
    "    y[i] = E_Simp(0,i/10,30) # b = x , x pertence [0,3]\n",
    "plt.plot(x,y)\n",
    "plt.xlabel(\"x\")\n",
    "plt.ylabel(\"E(x)\")\n",
    "plt.show()"
   ]
  },
  {
   "cell_type": "code",
   "execution_count": null,
   "metadata": {},
   "outputs": [],
   "source": []
  }
 ],
 "metadata": {
  "kernelspec": {
   "display_name": "Python 3",
   "language": "python",
   "name": "python3"
  },
  "language_info": {
   "codemirror_mode": {
    "name": "ipython",
    "version": 3
   },
   "file_extension": ".py",
   "mimetype": "text/x-python",
   "name": "python",
   "nbconvert_exporter": "python",
   "pygments_lexer": "ipython3",
   "version": "3.9.4"
  }
 },
 "nbformat": 4,
 "nbformat_minor": 4
}
