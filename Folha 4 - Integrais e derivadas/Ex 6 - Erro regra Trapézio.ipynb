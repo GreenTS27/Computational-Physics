{
 "cells": [
  {
   "cell_type": "markdown",
   "metadata": {},
   "source": [
    "### $\\int_0^2 (x^4 - 2x + 1) dx = 4.4$\n",
    "\n",
    "## Regra do Trapézio\n",
    "\n",
    "$\\int_a^b f(x) dx = I(a,b) = \n",
    "h \\left[ \\frac{1}{2}f(a) + \\frac{1}{2}f(b) + \\displaystyle{\\sum_{k=1}^{N-1} f(a +kh)} \\right]$\n",
    "\n",
    "## Erro Regra do Trapézio\n",
    "$I_2 - I_1 \\, = \\, ch_1^2 - ch_2^2 \\, = \\, 3ch_2^2 \\qquad,$\n",
    "$\\qquad h_1 = \\frac{b-a}{N_1}  \\, ,\\quad  N_2=N_1$\n",
    "\n",
    "Assim,\n",
    "### $\\epsilon_2 \\, = \\, ch_2^2 \\, = \\, \\frac{1}{3} (I_2 - I_1)$"
   ]
  },
  {
   "cell_type": "code",
   "execution_count": 12,
   "metadata": {},
   "outputs": [
    {
     "name": "stdout",
     "output_type": "stream",
     "text": [
      "4.50656\n",
      "4.426660000000001\n",
      "o erro é approximadamente -0.026633333333333137\n",
      "4.400026666666668\n"
     ]
    }
   ],
   "source": [
    "def f(x):\n",
    "    return x**4 - 2*x + 1\n",
    "\n",
    "def IntTrap(a,b,N): \n",
    "    h = (b-a)/N\n",
    "    soma = 0   \n",
    "    for k in range(1,N):\n",
    "        soma += f(a + k*h)\n",
    "        \n",
    "    return  h * (0.5*f(a) + 0.5*f(b) + soma)\n",
    "\n",
    "a = 0\n",
    "b = 2\n",
    "N1 = 10 # aumentar diminui erro \n",
    "N2 = 2 * N1\n",
    "I1 = IntTrap(a,b,N1)\n",
    "I2 = IntTrap(a,b,N2)\n",
    "epsilon2 = 1/3 * (I2 - I1)\n",
    "\n",
    "print(I1)\n",
    "print(I2)\n",
    "print(\"o erro é approximadamente\", epsilon2)\n",
    "print(I2 + epsilon2)\n",
    "# valor exato = 4.4"
   ]
  },
  {
   "cell_type": "markdown",
   "metadata": {},
   "source": [
    "Tanto $I_1$ como $I_2$ são aproximações do valor exato do integral. \n",
    "\n",
    "Ao subtrairmos os valores dos integrais obtemos o erro entre estes dois integrais. \n",
    "\n",
    "Contudo, como estes valores eram aprximações o máximo que conseguímos fazer é reduzir o erro."
   ]
  },
  {
   "cell_type": "code",
   "execution_count": null,
   "metadata": {},
   "outputs": [],
   "source": []
  }
 ],
 "metadata": {
  "kernelspec": {
   "display_name": "Python 3",
   "language": "python",
   "name": "python3"
  },
  "language_info": {
   "codemirror_mode": {
    "name": "ipython",
    "version": 3
   },
   "file_extension": ".py",
   "mimetype": "text/x-python",
   "name": "python",
   "nbconvert_exporter": "python",
   "pygments_lexer": "ipython3",
   "version": "3.9.4"
  }
 },
 "nbformat": 4,
 "nbformat_minor": 4
}
