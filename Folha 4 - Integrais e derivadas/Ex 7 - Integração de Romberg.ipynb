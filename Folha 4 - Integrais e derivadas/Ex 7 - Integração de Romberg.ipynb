{
 "cells": [
  {
   "cell_type": "markdown",
   "metadata": {},
   "source": [
    "### $I=\\int_0^1 \\sin^2 \\left( \\sqrt{100x} \\right) dx \\approx 0.45$\n",
    "## Regra Trapézio\n",
    "### $I_i = \\frac{1}{2}I_{i-1} + h_i \\sum\\limits_{\\substack{k \\, ímpar \\\\ 1...N_i-1}} f(a + kh_i)$"
   ]
  },
  {
   "cell_type": "code",
   "execution_count": 2,
   "metadata": {
    "jupyter": {
     "source_hidden": true
    },
    "tags": []
   },
   "outputs": [
    {
     "name": "stdout",
     "output_type": "stream",
     "text": [
      "Número de intervalos(N) =  2\n",
      "Estimativa do integral =  0.3252319078064746\n",
      "Estimativo do erro = 0.009757646237723534\n",
      "------------------------------------\n",
      "Número de intervalos(N) =  4\n",
      "Estimativa do integral =  0.5650656827398184\n",
      "Estimativo do erro = 0.07994459164444792\n",
      "------------------------------------\n",
      "Número de intervalos(N) =  8\n",
      "Estimativa do integral =  0.3502354502539358\n",
      "Estimativo do erro = -0.07161007749529419\n",
      "------------------------------------\n",
      "Número de intervalos(N) =  16\n",
      "Estimativa do integral =  0.44227413535843796\n",
      "Estimativo do erro = 0.030679561701500713\n",
      "------------------------------------\n",
      "Número de intervalos(N) =  32\n",
      "Estimativa do integral =  0.4573391555527191\n",
      "Estimativo do erro = 0.00502167339809371\n",
      "------------------------------------\n",
      "Número de intervalos(N) =  64\n",
      "Estimativa do integral =  0.45663171467375474\n",
      "Estimativo do erro = -0.00023581362632144978\n",
      "------------------------------------\n",
      "Número de intervalos(N) =  128\n",
      "Estimativa do integral =  0.4560624757818151\n",
      "Estimativo do erro = -0.00018974629731322024\n",
      "------------------------------------\n",
      "Número de intervalos(N) =  256\n",
      "Estimativa do integral =  0.4558921713505869\n",
      "Estimativo do erro = -5.6768143742724764e-05\n",
      "------------------------------------\n",
      "Número de intervalos(N) =  512\n",
      "Estimativa do integral =  0.45584760684400305\n",
      "Estimativo do erro = -1.485483552795171e-05\n",
      "------------------------------------\n",
      "Número de intervalos(N) =  1024\n",
      "Estimativa do integral =  0.45583631495584287\n",
      "Estimativo do erro = -3.7639627200602988e-06\n",
      "------------------------------------\n",
      "Número de intervalos(N) =  2048\n",
      "Estimativa do integral =  0.45583347930975804\n",
      "Estimativo do erro = -9.452153616103705e-07\n",
      "------------------------------------\n",
      "0.45583347930975804\n"
     ]
    }
   ],
   "source": [
    "import numpy as np\n",
    "\n",
    "def f(x):\n",
    "    return ( np.sin(np.sqrt(100*x)) )**2\n",
    "\n",
    "a = 0\n",
    "b = 1\n",
    "\n",
    "def I_T(f,N): \n",
    "    h = (b-a)/N\n",
    "    soma = 0   \n",
    "    for k in range(1,N):\n",
    "        soma += f(a + k*h)   \n",
    "    return  h * (0.5*f(a) + 0.5*f(b) + soma)\n",
    "\n",
    "def I_T_adaptativo(f, N, I_anterior, erro): #Integral de f c/ o erro q especificar\n",
    "    N = 2 * N\n",
    "    h = (b-a)/N\n",
    "    somaImpar = 0\n",
    "    for k in range(1,N,2):\n",
    "        somaImpar += f(a + k*h)\n",
    "    integral = 0.5 * I_T(f,N-1) + h * somaImpar\n",
    "    epsilon = 1/3 * ( integral - I_anterior )\n",
    "    \n",
    "    print(\"Número de intervalos(N) = \", N)\n",
    "    print(\"Estimativa do integral = \",integral)\n",
    "    print(\"Estimativo do erro =\",epsilon)\n",
    "    print(\"------------------------------------\")\n",
    "    \n",
    "    if abs(epsilon) < erro :\n",
    "        return  integral\n",
    "    else:\n",
    "        return I_T_adaptativo(f, N, integral, erro)\n",
    "    \n",
    "print(I_T_adaptativo(f, 1, (f(1) - f(0)), 10**(-6)))"
   ]
  },
  {
   "cell_type": "markdown",
   "metadata": {},
   "source": [
    "## Integração de Romberg\n",
    "#### $R_{i,m+1} = R_{i,m} + \\frac{1}{4^m - 1} \\left( R_{i,m} - R_{i-1,m} \\right) \\quad , \\quad m \\in \\left[ 1,i \\right]$ \n",
    "### $R_{i,m+1} = R_{i,m} + erro \\quad , \\, erro = \\frac{1}{4^m - 1} \\left( R_{i,m} - R_{i-1,m} \\right)$\n",
    "### Por defenição, $\\quad R_{i,1} = I_i$\n",
    "##### Exemplo : $R_{i,2} = R_{i,1} + \\frac{1}{3} \\left( R_{i,1} - R_{i-1,1} \\right)$"
   ]
  },
  {
   "cell_type": "code",
   "execution_count": 30,
   "metadata": {},
   "outputs": [
    {
     "name": "stdout",
     "output_type": "stream",
     "text": [
      "N = 1, R1 =  [0.14797948]\n",
      "N = 2, R2 = [0.07398974 0.04932649]\n",
      "N = 4, R3 = [0.28823704 0.3596528  0.38034122]\n",
      "N = 8, R4 = [0.49378542 0.56230154 0.57581146 0.57891416]\n",
      "N = 16, R5 = [0.39374873 0.36040317 0.34694328 0.34331045 0.34238651]\n",
      "N = 32, R6 = [0.42547901 0.43605577 0.44109928 0.44259382 0.44298316 0.4430815 ]\n",
      "N = 64, R7 = [0.44610249 0.45297698 0.45410506 0.4543115  0.45435745 0.45436857\n",
      " 0.45437133]\n",
      "N = 128, R8 = [0.45275684 0.45497496 0.45510816 0.45512408 0.45512727 0.45512802\n",
      " 0.45512821 0.45512825]\n"
     ]
    }
   ],
   "source": [
    "I1 = I_T(f,1) # = R11\n",
    "R1 = np.array([I1],float)\n",
    "print(\"N = 1, R1 = \",R1)\n",
    "\n",
    "erro = 1\n",
    "criterio = 10**(-6)\n",
    "linha = 1\n",
    "N = 1\n",
    "\n",
    "while abs(erro) > criterio:\n",
    "    \n",
    "    h = (b-a)/N\n",
    "    somaImpar = 0   \n",
    "    for k in range(1,N,2):\n",
    "        somaImpar += f(a + k*h)  \n",
    "    I2 = 0.5 * I1 + h * somaImpar\n",
    "    \n",
    "    linha += 1\n",
    "    R2 = np.empty(linha,float)\n",
    "    \n",
    "    R2[0] = I2\n",
    "    for m in range(1,linha):\n",
    "        erro = 1/(4**m -1) * (R2[m-1] - R1[m-1])\n",
    "        R2[m] = R2[m-1] + erro\n",
    "        \n",
    "    R1 = R2\n",
    "    I1 = I2\n",
    "    N *= 2\n",
    "    print(\"N = {}, R{} = {}\".format(N,linha,R1))"
   ]
  }
 ],
 "metadata": {
  "kernelspec": {
   "display_name": "Python 3",
   "language": "python",
   "name": "python3"
  },
  "language_info": {
   "codemirror_mode": {
    "name": "ipython",
    "version": 3
   },
   "file_extension": ".py",
   "mimetype": "text/x-python",
   "name": "python",
   "nbconvert_exporter": "python",
   "pygments_lexer": "ipython3",
   "version": "3.9.4"
  }
 },
 "nbformat": 4,
 "nbformat_minor": 4
}
