{
 "cells": [
  {
   "cell_type": "code",
   "execution_count": 3,
   "metadata": {},
   "outputs": [
    {
     "name": "stdout",
     "output_type": "stream",
     "text": [
      "Número de intervalos(N) =  2\n",
      "Estimativa do integral =  0.38431604889308213\n",
      "Estimativo do erro = 0.005890471986651876\n",
      "------------------------------------\n",
      "Número de intervalos(N) =  4\n",
      "Estimativa do integral =  0.5746331650289503\n",
      "Estimativo do erro = 0.012687807742391213\n",
      "------------------------------------\n",
      "Número de intervalos(N) =  8\n",
      "Estimativa do integral =  0.36656898106322056\n",
      "Estimativo do erro = -0.013870945597715319\n",
      "------------------------------------\n",
      "Número de intervalos(N) =  16\n",
      "Estimativa do integral =  0.43913867623357977\n",
      "Estimativo do erro = 0.004837979678023948\n",
      "------------------------------------\n",
      "Número de intervalos(N) =  32\n",
      "Estimativa do integral =  0.45451843128504427\n",
      "Estimativo do erro = 0.0010253170034309662\n",
      "------------------------------------\n",
      "Número de intervalos(N) =  64\n",
      "Estimativa do integral =  0.45574568635801105\n",
      "Estimativo do erro = 8.181700486445212e-05\n",
      "------------------------------------\n",
      "Número de intervalos(N) =  128\n",
      "Estimativa do integral =  0.45582702875861086\n",
      "Estimativo do erro = 5.422826706654356e-06\n",
      "------------------------------------\n",
      "Número de intervalos(N) =  256\n",
      "Estimativa do integral =  0.45583218714672064\n",
      "Estimativo do erro = 3.4389254065144335e-07\n",
      "------------------------------------\n",
      "0.45583218714672064\n"
     ]
    }
   ],
   "source": [
    "import numpy as np\n",
    "\n",
    "def f(x):\n",
    "    return ( np.sin(np.sqrt(100*x)) )**2\n",
    "\n",
    "\n",
    "\n",
    "#limites\n",
    "a = 0\n",
    "b = 1\n",
    "\n",
    "def I_S_adaptativo(f, N, I_anterior, erro): #Integral de f c/ o erro q especificar\n",
    "    N = 2 * N\n",
    "    h = (b-a)/N\n",
    "    \n",
    "    somaPar = 0\n",
    "    for k in range(2,N,2): #valores pares de k\n",
    "        somaPar += f(a + k*h )\n",
    "        \n",
    "    somaImpar = 0   \n",
    "    for k in range(1,N,2): #valores ímpares de k\n",
    "        somaImpar += f(a + k*h)\n",
    "    \n",
    "    S = 1/3 * (f(a) + f(b) + 2*somaPar)\n",
    "    T = 2/3 * somaImpar \n",
    "    \n",
    "    integral = h * (S + 2*T)\n",
    "    epsilon = 1/15 * ( integral - I_anterior )\n",
    "    \n",
    "    print(\"Número de intervalos(N) = \", N)\n",
    "    print(\"Estimativa do integral = \",integral)\n",
    "    print(\"Estimativo do erro =\",epsilon)\n",
    "    print(\"------------------------------------\")\n",
    "    \n",
    "    if abs(epsilon) < erro :\n",
    "        return  integral\n",
    "    else:\n",
    "        return I_S_adaptativo(f, N, integral, erro)\n",
    "    \n",
    "print(I_S_adaptativo(f, 1, (f(1) - f(0)), 10**(-6)))\n"
   ]
  },
  {
   "cell_type": "code",
   "execution_count": null,
   "metadata": {},
   "outputs": [],
   "source": [
    "# Integral adaptativo Trapézio: N = 2048 \n",
    "# Integral adaptativo Simpson: N = 256 \n",
    "# Integração Romberg:         N = 128 "
   ]
  }
 ],
 "metadata": {
  "kernelspec": {
   "display_name": "Python 3",
   "language": "python",
   "name": "python3"
  },
  "language_info": {
   "codemirror_mode": {
    "name": "ipython",
    "version": 3
   },
   "file_extension": ".py",
   "mimetype": "text/x-python",
   "name": "python",
   "nbconvert_exporter": "python",
   "pygments_lexer": "ipython3",
   "version": "3.9.4"
  }
 },
 "nbformat": 4,
 "nbformat_minor": 4
}
