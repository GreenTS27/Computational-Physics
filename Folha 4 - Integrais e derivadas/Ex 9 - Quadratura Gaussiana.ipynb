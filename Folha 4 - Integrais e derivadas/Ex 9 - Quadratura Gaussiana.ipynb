{
 "cells": [
  {
   "cell_type": "code",
   "execution_count": 8,
   "metadata": {},
   "outputs": [
    {
     "data": {
      "image/png": "[encoded data removed]",
      "text/plain": [
       "<Figure size 432x288 with 1 Axes>"
      ]
     },
     "metadata": {
      "needs_background": "light"
     },
     "output_type": "display_data"
    }
   ],
   "source": [
    "from gaussxw import gaussxw\n",
    "import numpy as np\n",
    "import matplotlib.pyplot as plt\n",
    "\n",
    "V = 10**(-3) # Volume em m^3\n",
    "k_B =  1.380649 * 10**(-23)# const. Boltzman\n",
    "ro = 6.022*10**28 #densidade em m^(-3)\n",
    "teta_D = 428 # Temperatura Debye em K\n",
    "\n",
    "def cv(T):\n",
    "    \n",
    "    def f(x):\n",
    "        return x**4 * np.exp(x) / (np.exp(x)-1)**2\n",
    "    \n",
    "    a = 0\n",
    "    b = teta_D / T\n",
    "    N = 50\n",
    "       \n",
    "    # Calculate the sample points and weights, then map them\n",
    "    # to the required integration domain\n",
    "    x,w = gaussxw(N)\n",
    "    xp = 0.5*(b-a)*x + 0.5*(b+a)\n",
    "    wp = 0.5*(b-a)*w\n",
    "    \n",
    "    # Perform the integration\n",
    "    integral = 0.0\n",
    "    for k in range(N):\n",
    "        integral += wp[k]*f(xp[k])\n",
    "\n",
    "    return 9 * V * ro * k_B * (T/teta_D)**3 * integral\n",
    "\n",
    "T = np.linspace(5,500,50)\n",
    "C = np.zeros(T.shape)\n",
    "for i in range(50): \n",
    "    C[i] = cv(T[i])\n",
    "    \n",
    "plt.plot(T, C, 'o')\n",
    "plt.xlim(5, 500)\n",
    "plt.xlabel('T (K)')\n",
    "plt.ylabel('$C_V$ ( J $K^{-1}$ )')\n",
    "plt.show()"
   ]
  },
  {
   "cell_type": "code",
   "execution_count": null,
   "metadata": {},
   "outputs": [],
   "source": []
  }
 ],
 "metadata": {
  "kernelspec": {
   "display_name": "Python 3",
   "language": "python",
   "name": "python3"
  },
  "language_info": {
   "codemirror_mode": {
    "name": "ipython",
    "version": 3
   },
   "file_extension": ".py",
   "mimetype": "text/x-python",
   "name": "python",
   "nbconvert_exporter": "python",
   "pygments_lexer": "ipython3",
   "version": "3.9.4"
  }
 },
 "nbformat": 4,
 "nbformat_minor": 4
}
