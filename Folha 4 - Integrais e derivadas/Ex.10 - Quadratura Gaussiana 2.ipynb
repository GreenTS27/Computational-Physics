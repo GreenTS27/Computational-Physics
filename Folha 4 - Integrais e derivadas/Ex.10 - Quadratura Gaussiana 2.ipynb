{
 "cells": [
  {
   "cell_type": "code",
   "execution_count": 3,
   "metadata": {},
   "outputs": [
    {
     "data": {
      "image/png": "[encoded data removed]",
      "text/plain": [
       "<Figure size 432x288 with 1 Axes>"
      ]
     },
     "metadata": {
      "needs_background": "light"
     },
     "output_type": "display_data"
    }
   ],
   "source": [
    "import numpy as np\n",
    "from gaussxw import gaussxwab\n",
    "import matplotlib.pyplot as plt\n",
    "m = 1\n",
    "N = 20\n",
    "\n",
    "def T(a):\n",
    "    def f(x):\n",
    "        def V(y):\n",
    "            return y**4\n",
    "        return 1/( np.sqrt(V(a) - V(x)) )\n",
    "        \n",
    "    x,w = gaussxwab(N,0,a)\n",
    "    integral = 0.0\n",
    "    for k in range(N):\n",
    "        integral += w[k]*f(x[k])\n",
    "\n",
    "    return np.sqrt(8*m) * integral\n",
    "\n",
    "a = np.linspace(0.1,2,20) # devia ser de 0 a 2 mas diverge em 0\n",
    "Tau = np.zeros(a.shape)\n",
    "for i in range(20): \n",
    "    Tau[i] = T(a[i])\n",
    "    \n",
    "plt.plot(a, Tau, 'o')\n",
    "plt.xlim(0, 2)\n",
    "plt.xlabel('a')\n",
    "plt.ylabel('$T$')\n",
    "plt.show()"
   ]
  },
  {
   "cell_type": "code",
   "execution_count": null,
   "metadata": {},
   "outputs": [],
   "source": []
  }
 ],
 "metadata": {
  "kernelspec": {
   "display_name": "Python 3",
   "language": "python",
   "name": "python3"
  },
  "language_info": {
   "codemirror_mode": {
    "name": "ipython",
    "version": 3
   },
   "file_extension": ".py",
   "mimetype": "text/x-python",
   "name": "python",
   "nbconvert_exporter": "python",
   "pygments_lexer": "ipython3",
   "version": "3.9.4"
  }
 },
 "nbformat": 4,
 "nbformat_minor": 4
}
