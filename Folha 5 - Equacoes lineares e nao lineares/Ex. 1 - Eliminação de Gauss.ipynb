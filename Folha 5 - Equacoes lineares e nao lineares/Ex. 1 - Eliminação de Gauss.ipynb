{
 "cells": [
  {
   "cell_type": "markdown",
   "metadata": {},
   "source": [
    "$$\\begin{align}\n",
    "4V_1-V_2-V_3-V_4=& \\, V_+\\\\\n",
    "3V_2-V_1-V_4=& \\, 0\\\\\n",
    "3V_3-V_1-V_4=& \\, V_+\\\\\n",
    "4V_4-V_1-V_2-V_3=& \\, 0\\\\\n",
    "\\end{align}$$\n",
    "Ou seja:\n",
    "$$\\begin{align}\n",
    "4V_1-V_2-V_3-V_4=& \\, 5\\\\\n",
    "-V_1+3V_2-(0)V_3-V_4=& \\, 0\\\\\n",
    "-V_1+(0)V_2+3V_3-V_4=& \\, 5\\\\\n",
    "-V_1-V_2-V_3+4V_4=& \\, 0\\\\\n",
    "\\end{align}$$\n",
    "\n"
   ]
  },
  {
   "cell_type": "code",
   "execution_count": 7,
   "metadata": {},
   "outputs": [
    {
     "name": "stdout",
     "output_type": "stream",
     "text": [
      "V1 = 3.0 \n",
      "V2 = 1.6666666666666665 \n",
      "V3 = 3.3333333333333335 \n",
      "V4 = 2.0\n",
      "5.0 , se deu 5 o programa está correto\n"
     ]
    }
   ],
   "source": [
    "import numpy as np \n",
    "\n",
    "A = np.array([[ 4,-1,-1,-1],\n",
    "              [-1, 3, 0,-1],\n",
    "              [-1, 0, 3,-1],\n",
    "              [-1,-1,-1, 4]],float)\n",
    "v = np.array([5,0,5,0],float)\n",
    "\n",
    "def ElimG(A,v): # Gaussian elimination\n",
    "    N = len(v)\n",
    "    for i in range(N):\n",
    "\n",
    "        # Divide by the DIAGONAL element\n",
    "        div = A[i,i]\n",
    "        A[i,:] /= div # dividir coluna i por div\n",
    "        v[i] /= div\n",
    "\n",
    "        # Now subtract from the lower rows\n",
    "        for j in range(i+1,N): # isto subtrai por colunas e percorre-as na vertical\n",
    "            mult = A[j ,i]\n",
    "            A[j,:] -= mult*A[i,:]\n",
    "            v[j] -= mult*v[i]\n",
    "\n",
    "    # Backsubstitution\n",
    "    x = np.empty(N,float)\n",
    "    for i in range(N-1,-1,-1): #vai de N-1 até 0\n",
    "        x[i] = v[i]\n",
    "        for j in range(i+1,N):\n",
    "            x[i] -= A[i, j] * x[j]\n",
    "    return x\n",
    "\n",
    "resposta = ElimG(A,v)\n",
    "\n",
    "print(\"V1 = {} \\nV2 = {} \\nV3 = {} \\nV4 = {}\".format(resposta[0], resposta[1], resposta[2], resposta[3] ))\n",
    "\n",
    "print(4*resposta[0]-resposta[1]-resposta[2]-resposta[3],\", se deu 5 o programa está correto\")# verificar, isto deve ser V_+ =5"
   ]
  },
  {
   "cell_type": "code",
   "execution_count": null,
   "metadata": {},
   "outputs": [],
   "source": []
  }
 ],
 "metadata": {
  "kernelspec": {
   "display_name": "Python 3",
   "language": "python",
   "name": "python3"
  },
  "language_info": {
   "codemirror_mode": {
    "name": "ipython",
    "version": 3
   },
   "file_extension": ".py",
   "mimetype": "text/x-python",
   "name": "python",
   "nbconvert_exporter": "python",
   "pygments_lexer": "ipython3",
   "version": "3.9.4"
  }
 },
 "nbformat": 4,
 "nbformat_minor": 4
}
