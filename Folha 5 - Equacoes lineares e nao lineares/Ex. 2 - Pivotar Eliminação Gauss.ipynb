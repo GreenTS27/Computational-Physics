{
 "cells": [
  {
   "cell_type": "code",
   "execution_count": 5,
   "metadata": {},
   "outputs": [
    {
     "name": "stdout",
     "output_type": "stream",
     "text": [
      "[3.         1.66666667 3.33333333 2.        ]\n",
      "5.0 , se deu 5 o programa está correto\n",
      "[ 1.61904762 -0.42857143 -1.23809524  1.38095238]\n"
     ]
    },
    {
     "data": {
      "text/plain": [
       "-4.000000000000001"
      ]
     },
     "execution_count": 5,
     "metadata": {},
     "output_type": "execute_result"
    }
   ],
   "source": [
    "import numpy as np \n",
    "\n",
    "def ElimG_Pivot(A,v): # Gaussian elimination\n",
    "    N = len(v)\n",
    "    for i in range(N):\n",
    "        \n",
    "        MaiorValor = A[i,i]\n",
    "        MaiorLinha = i\n",
    "        \n",
    "        # Descobrir qual o Maior valor duma coluna i, e a linha em que ele está\n",
    "        for k in range(N):\n",
    "            if MaiorValor < abs(A[k,i]): # uso abs() pq quero livrar-me do 0\n",
    "                MaiorValor = A[k,i]\n",
    "                MaiorLinha = k\n",
    "                \n",
    "        if MaiorLinha != i: \n",
    "            # Trocar a linha antiga pela linha nova em M\n",
    "            linha_i = np.copy(A[i,:])\n",
    "            A[i,:] = A[MaiorLinha,:]\n",
    "            A[MaiorLinha,:] = linha_i\n",
    "            \n",
    "            # Trocar as linha antiga pela linha nova em v\n",
    "            v[i] , v[MaiorLinha] = v[MaiorLinha] , v[i]\n",
    "            \n",
    "        # Divide by the DIAGONAL element\n",
    "        div = A[i,i]    \n",
    "        A[i, : ] /= div # dividir coluna i por div\n",
    "        v[i] /= div\n",
    "\n",
    "        # Now subtract from the lower rows\n",
    "        for j in range(i+1,N): # isto subtrai por colunas e percorre-as na vertical\n",
    "            mult = A[j ,i]\n",
    "            A[j,:] -= mult*A[i,:]\n",
    "            v[j] -= mult*v[i]\n",
    "\n",
    "    # Backsubstitution\n",
    "    x = np.zeros(N,float)\n",
    "    for i in range(N-1,-1,-1):\n",
    "        x[i] = v[i]\n",
    "        for j in range(i+1,N):\n",
    "            x [i] -= A[i, j] * x [j]\n",
    "    \n",
    "    return x\n",
    "###################################### confirmar que dá o mesmo que no ex.1 ########\n",
    "A = np.array([[ 4,-1,-1,-1],\n",
    "              [-1, 3, 0,-1],\n",
    "              [-1, 0, 3,-1],\n",
    "              [-1,-1,-1, 4]],float)\n",
    "v = np.array([5,0,5,0],float)\n",
    "\n",
    "resposta = ElimG_Pivot(A,v)\n",
    "print(resposta)\n",
    "print(4*resposta[0]-resposta[1]-resposta[2]-resposta[3],\", se deu 5 o programa está correto\")\n",
    "\n",
    "############################################################\n",
    "B = np.array([[ 0, 1, 4, 1],\n",
    "              [ 3, 4,-1,-1],\n",
    "              [ 1,-4, 1, 5],\n",
    "              [ 2,-2, 1, 3]],float)\n",
    "w = np.array( [-4, 3, 9, 7], float)\n",
    "\n",
    "resposta2 = ElimG_Pivot(B,w)\n",
    "print(resposta2)\n",
    "\n",
    "0*resposta2[0] + 1*resposta2[1] + 4*resposta2[2] + 1*resposta2[3] #confirmar, está correto se der -4\n"
   ]
  },
  {
   "cell_type": "code",
   "execution_count": null,
   "metadata": {},
   "outputs": [],
   "source": []
  }
 ],
 "metadata": {
  "kernelspec": {
   "display_name": "Python 3",
   "language": "python",
   "name": "python3"
  },
  "language_info": {
   "codemirror_mode": {
    "name": "ipython",
    "version": 3
   },
   "file_extension": ".py",
   "mimetype": "text/x-python",
   "name": "python",
   "nbconvert_exporter": "python",
   "pygments_lexer": "ipython3",
   "version": "3.9.4"
  }
 },
 "nbformat": 4,
 "nbformat_minor": 4
}
