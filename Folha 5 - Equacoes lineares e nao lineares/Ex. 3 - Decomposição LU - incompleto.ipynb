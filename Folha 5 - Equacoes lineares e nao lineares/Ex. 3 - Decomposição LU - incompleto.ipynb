{
 "cells": [
  {
   "cell_type": "code",
   "execution_count": 10,
   "metadata": {},
   "outputs": [
    {
     "name": "stdout",
     "output_type": "stream",
     "text": [
      "[[ 4. -1. -1. -1.]\n",
      " [-1.  3.  0. -1.]\n",
      " [-1.  0.  3. -1.]\n",
      " [-1. -1. -1.  4.]] = A\n",
      "---\n",
      "[[1. 0. 0. 0.]\n",
      " [0. 1. 0. 0.]\n",
      " [0. 0. 1. 0.]\n",
      " [0. 0. 0. 1.]] = P\n",
      "---\n",
      "[[ 1.          0.          0.          0.        ]\n",
      " [-0.25        1.          0.          0.        ]\n",
      " [-0.25       -0.09090909  1.          0.        ]\n",
      " [-0.25       -0.45454545 -0.5         1.        ]] = L\n",
      "---\n",
      "[[ 4.         -1.         -1.         -1.        ]\n",
      " [ 0.          2.75       -0.25       -1.25      ]\n",
      " [ 0.          0.          2.72727273 -1.36363636]\n",
      " [ 0.          0.          0.          2.5       ]] = U\n"
     ]
    }
   ],
   "source": [
    "import numpy as np \n",
    "from scipy.linalg import lu\n",
    "\n",
    "A = np.array([[ 4,-1,-1,-1],\n",
    "              [-1, 3, 0,-1],\n",
    "              [-1, 0, 3,-1],\n",
    "              [-1,-1,-1, 4]],float)\n",
    "\n",
    "P,L,U = lu(A)\n",
    "\n",
    "print(A, \"= A\")\n",
    "print(\"---\")\n",
    "print(P, \"= P\")\n",
    "print(\"---\")\n",
    "print(L, \"= L\")\n",
    "print(\"---\")\n",
    "print(U, \"= U\")"
   ]
  },
  {
   "cell_type": "code",
   "execution_count": 11,
   "metadata": {},
   "outputs": [
    {
     "name": "stdout",
     "output_type": "stream",
     "text": [
      "[[ 4. -1. -1. -1.]\n",
      " [-1.  3.  0. -1.]\n",
      " [-1.  0.  3. -1.]\n",
      " [-1. -1. -1.  4.]]\n"
     ]
    }
   ],
   "source": [
    "print(L@U)"
   ]
  },
  {
   "cell_type": "code",
   "execution_count": 3,
   "metadata": {},
   "outputs": [
    {
     "name": "stdout",
     "output_type": "stream",
     "text": [
      "[3.         1.66666667 3.33333333 2.        ]\n",
      "[3.         1.66666667 3.33333333 2.        ]\n"
     ]
    }
   ],
   "source": [
    "#Não tou aa conseguir fazer o L\n",
    "\n",
    "import numpy as np \n",
    "\n",
    "def ElimG_LU(A,v): # Gaussian elimination\n",
    "    N = len(v)\n",
    "    U = np.zeros((N,N))\n",
    "    L = np.zeros((N,N))\n",
    "\n",
    "    for i in range(N):\n",
    "        U[i,:]=A[i,:]\n",
    "        \n",
    "        # Divide by the DIAGONAL element\n",
    "        div = A[i,i]\n",
    "        A[i,:] /= div # dividir coluna i por div\n",
    "        v[i] /= div\n",
    "        \n",
    "        # Now subtract from the lower rows\n",
    "        for j in range(i+1,N): # isto subtrai por colunas e percorre-as na vertical\n",
    "            mult = A[j ,i]\n",
    "            A[j,:] -= mult*A[i,:]\n",
    "            v[j] -= mult*v[i] \n",
    "               \n",
    "    for k in range(N):\n",
    "        L[:,k] = A[k,:]\n",
    "    \n",
    "    # Backsubstitution\n",
    "    x = np.empty(N,float)\n",
    "    for i in range(N-1,-1,-1): #vai de N-1 até 0\n",
    "        x[i] = v[i]\n",
    "        for j in range(i+1,N):\n",
    "            x [i] -= A[i, j] * x [j]\n",
    "            \n",
    "#     print(L, \"= L\")\n",
    "#     print(\"---\")\n",
    "#     print(U, \"= U\")\n",
    "#     print(\"---\")\n",
    "#     print(L@U, \"= LU = A\")\n",
    "    \n",
    "    return x\n",
    "\n",
    "\n",
    "A = np.array([[ 4,-1,-1,-1],\n",
    "              [-1, 3, 0,-1],\n",
    "              [-1, 0, 3,-1],\n",
    "              [-1,-1,-1, 4]],float)\n",
    "v = np.array([5,0,5,0],float)\n",
    "\n",
    "print(ElimG_LU(A,v))\n",
    "\n",
    "Resposta = np.linalg.solve(A,v)\n",
    "print(Resposta)"
   ]
  },
  {
   "cell_type": "code",
   "execution_count": null,
   "metadata": {},
   "outputs": [],
   "source": []
  }
 ],
 "metadata": {
  "kernelspec": {
   "display_name": "Python 3",
   "language": "python",
   "name": "python3"
  },
  "language_info": {
   "codemirror_mode": {
    "name": "ipython",
    "version": 3
   },
   "file_extension": ".py",
   "mimetype": "text/x-python",
   "name": "python",
   "nbconvert_exporter": "python",
   "pygments_lexer": "ipython3",
   "version": "3.9.4"
  }
 },
 "nbformat": 4,
 "nbformat_minor": 4
}
