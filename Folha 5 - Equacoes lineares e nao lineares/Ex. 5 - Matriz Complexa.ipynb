{
 "cells": [
  {
   "cell_type": "code",
   "execution_count": 1,
   "metadata": {},
   "outputs": [
    {
     "name": "stdout",
     "output_type": "stream",
     "text": [
      "[1.69369369-0.16216216j 1.45045045+0.2972973j  1.85585586-0.13513514j]\n",
      "---\n",
      "1.7014390658777339 V    -0.09545371433271409 rad\n",
      "1.4806053465364064 V    0.20216879328855683 rad\n",
      "1.8607693200562132 V    -0.0726872500428239 rad\n"
     ]
    }
   ],
   "source": [
    "import numpy as np \n",
    "import cmath \n",
    "R1 = R3 = R5 = 1000 # ohms\n",
    "R2 = R4 = R6 = 2000 # ohms\n",
    "C1 = 1 * 10**-6 # faradys\n",
    "C2 = 0.5 * 10**-6 # faradays\n",
    "xp = 3 # Volts\n",
    "w = 1000 # s^-1\n",
    "\n",
    "A = np.array([[1/R1 + 1/R4 + 1j*w*C1,          -1j*w*C1             ,           0          ],\n",
    "              [       -1j*w*C1      ,1/R2 + 1/R5 + 1j*w*C1 + 1j*w*C2,       -1j*w*C2       ],\n",
    "              [           0         ,             -1j*w*C2          ,1/R3 + 1/R6 + 1j*w*C2 ]],complex)\n",
    "v = np.array([xp/R1 , xp/R2 , xp/R3],float )\n",
    "\n",
    "x = np.linalg.solve(A,v)\n",
    "print(x)\n",
    "print(\"---\")\n",
    "for i in range(len(x)):\n",
    "    r, theta = cmath.polar(x[i])\n",
    "    print(r, 'V   ', theta, 'rad')"
   ]
  },
  {
   "cell_type": "code",
   "execution_count": null,
   "metadata": {},
   "outputs": [],
   "source": []
  }
 ],
 "metadata": {
  "kernelspec": {
   "display_name": "Python 3",
   "language": "python",
   "name": "python3"
  },
  "language_info": {
   "codemirror_mode": {
    "name": "ipython",
    "version": 3
   },
   "file_extension": ".py",
   "mimetype": "text/x-python",
   "name": "python",
   "nbconvert_exporter": "python",
   "pygments_lexer": "ipython3",
   "version": "3.9.4"
  }
 },
 "nbformat": 4,
 "nbformat_minor": 4
}
