{
 "cells": [
  {
   "cell_type": "code",
   "execution_count": 10,
   "metadata": {},
   "outputs": [
    {
     "name": "stdout",
     "output_type": "stream",
     "text": [
      "[[ 0.10153462  0.558463    0.80981107  0.1483773 ]\n",
      " [ 0.40613847 -0.10686638 -0.14147555  0.8964462 ]\n",
      " [ 0.81227693 -0.38092692  0.22995024 -0.37712564]\n",
      " [ 0.40613847  0.72910447 -0.5208777  -0.17928924]] \n",
      " \n",
      " [[ 9.8488578   6.49821546 10.55960012 11.37187705]\n",
      " [ 0.          5.98106979  8.4234836  -0.484346  ]\n",
      " [ 0.          0.          2.74586406  3.27671222]\n",
      " [ 0.          0.          0.          3.11592335]]\n"
     ]
    }
   ],
   "source": [
    "import numpy as np\n",
    "\n",
    "def decompQR(A):\n",
    "    N = len(A[0]) #nº de colunas\n",
    "    Q = np.copy(A) \n",
    "    R = np.zeros((N,N))\n",
    "     \n",
    "    u = A[:,0]\n",
    "    q = u / np.sqrt( np.dot(u,u) )\n",
    "    Q[:,0] = q\n",
    "    R[0,0] = np.sqrt( np.dot(u,u) )\n",
    "    \n",
    "    for i in range(1,N):\n",
    "        soma = 0\n",
    "        for j in range(i):\n",
    "            soma += np.dot(Q[:,j] , A[:,i]) * Q[:,j]\n",
    "        \n",
    "        u = A[:,i] - soma\n",
    "        R[i,i] = np.sqrt( np.dot(u,u) )\n",
    "        \n",
    "        q = u / np.sqrt( np.dot(u,u) )\n",
    "        Q[:,i] = q\n",
    "        \n",
    "    for s in range(N): #precorre as linhas\n",
    "        t = s + 1\n",
    "        while t < N: #precorre as colunas dentro de cada linha, a começar na 2ª coluna (t=1)\n",
    "            R[s,t] = np.dot(Q[:,s] , A[:,t])\n",
    "            t += 1 \n",
    "            \n",
    "    #VERIFICAR - se estiver correto dá igual a A\n",
    "    #print(Q@R)   \n",
    "    \n",
    "    return Q , R\n",
    "\n",
    "A = np.array([[1, 4, 8, 4],\n",
    "              [4, 2, 3, 7],\n",
    "              [8, 3, 6, 9],\n",
    "              [4, 7, 9, 2]], float)\n",
    "Q1 , R1 = decompQR(A)\n",
    "print(Q1,\"\\n \\n\", R1)"
   ]
  },
  {
   "cell_type": "code",
   "execution_count": 14,
   "metadata": {},
   "outputs": [
    {
     "name": "stdout",
     "output_type": "stream",
     "text": [
      "(array([21., -8., -3.,  1.]), array([0.43151698, 0.43151698, 0.25819889, 0.25819889]))\n"
     ]
    }
   ],
   "source": [
    "def valores_proprios(A, erro):\n",
    "    N = len(A[0]) #nº de colunas  \n",
    "    \n",
    "    def decompQR(A):\n",
    "        Q = np.copy(A) \n",
    "        R = np.zeros((N,N))\n",
    "\n",
    "        u = A[:,0]\n",
    "        q = u / np.sqrt( np.dot(u,u) )\n",
    "        Q[:,0] = q\n",
    "        R[0,0] = np.sqrt( np.dot(u,u) )\n",
    "        \n",
    "        for i in range(1,N):\n",
    "            soma = 0\n",
    "            for j in range(i):\n",
    "                soma += np.dot(Q[:,j] , A[:,i]) * Q[:,j]\n",
    "\n",
    "            u = A[:,i] - soma\n",
    "            R[i,i] = np.sqrt( np.dot(u,u) )\n",
    "            q = u / np.sqrt( np.dot(u,u) )\n",
    "            Q[:,i] = q\n",
    "\n",
    "        for s in range(N): #precorre as linhas\n",
    "            t = s + 1\n",
    "            while t < N: #precorre as colunas dentro de cada linha, a começar na 2ª coluna (t=1)\n",
    "                R[s,t] = np.dot(Q[:,s] , A[:,t])\n",
    "                t += 1 \n",
    "\n",
    "        return Q , R\n",
    "    \n",
    "    V = np.identity(N)\n",
    "   \n",
    "    while A[0,1] > erro:\n",
    "        Q,R = decompQR(A)\n",
    "        A = R @ Q\n",
    "        V = V @ Q\n",
    "        \n",
    "    eignValues = np.diagonal(A) \n",
    "    eignVectors = np.diagonal(V) \n",
    "        \n",
    "    return eignValues, eignVectors\n",
    "\n",
    "\n",
    "M = np.array([[1, 4, 8, 4],\n",
    "              [4, 2, 3, 7],\n",
    "              [8, 3, 6, 9],\n",
    "              [4, 7, 9, 2]], float)\n",
    "\n",
    "print(valores_proprios(M,10**-6))\n",
    "# 1, 21, -3, -8    são os valores próprios"
   ]
  },
  {
   "cell_type": "code",
   "execution_count": null,
   "metadata": {},
   "outputs": [],
   "source": []
  }
 ],
 "metadata": {
  "interpreter": {
   "hash": "0008f99847e0185881a79e8b572a71d3ac719ff1d1265e893ff7c720a5d12d2f"
  },
  "kernelspec": {
   "display_name": "Python 3",
   "language": "python",
   "name": "python3"
  },
  "language_info": {
   "codemirror_mode": {
    "name": "ipython",
    "version": 3
   },
   "file_extension": ".py",
   "mimetype": "text/x-python",
   "name": "python",
   "nbconvert_exporter": "python",
   "pygments_lexer": "ipython3",
   "version": "3.9.4"
  }
 },
 "nbformat": 4,
 "nbformat_minor": 4
}
