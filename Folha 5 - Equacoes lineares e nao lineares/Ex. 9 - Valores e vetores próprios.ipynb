{
 "cells": [
  {
   "cell_type": "code",
   "execution_count": 59,
   "metadata": {},
   "outputs": [
    {
     "data": {
      "image/png": "[encoded data removed]",
      "text/plain": [
       "<Figure size 432x288 with 1 Axes>"
      ]
     },
     "metadata": {
      "needs_background": "light"
     },
     "output_type": "display_data"
    }
   ],
   "source": [
    "import numpy as np\n",
    "import matplotlib.pyplot as plt\n",
    "\n",
    "L = 5 * 10 **(-10) #m\n",
    "a = 10 #eV\n",
    "M = 9.1094*10**(-31) #kg\n",
    "q = 1.6022 * 10 **(-19) #C\n",
    "h = 6.582*10**(-16) # eV*s , constante de plank\n",
    "\n",
    "def matriz_H(N):\n",
    "    \n",
    "    def H(m,n):\n",
    "        # V(x) = ax/L\n",
    "        if m == n:\n",
    "            integral = L/2\n",
    "            integral2 = L**2/4\n",
    "        elif not (m%2 == n%2):\n",
    "            integral = 0.0\n",
    "            integral2 = -(2*L/np.pi)**2 * m*n/((m**2 - n**2)**2)\n",
    "        else :\n",
    "            integral = 0.0\n",
    "            integral2 = 0.0\n",
    "            \"\"\"\n",
    "            m != n ---> integral = 0\n",
    "            ambos par ou ambos ímpar --> integral2 = 0  \n",
    "            \"\"\"\n",
    "        return 2/L * ( (h*n*np.pi/L)**2/(2*M)*integral*q + a/L*integral2 ) # multiplicar parcela da esquerda pela carrga do eletrão para ter unidades corretas\n",
    "\n",
    "    A = np.empty([N,N],float) \n",
    "    for k in range(N):\n",
    "        for l in range(N):\n",
    "            A[k,l] = H(k+1 , l+1)\n",
    "    return A\n",
    "\n",
    "E, psi = np.linalg.eigh( matriz_H(10) )  # E - autovalor , psi - autovetor \n",
    "#print(E)    # E[0] deve ser aproximadamente 5.84 eV\n",
    "\n",
    "E100, psi100 = np.linalg.eigh( matriz_H(100) )\n",
    "#print(E100)\n",
    "\n",
    "# Quanto maior for a matriz H maior será a precisão do cálculo \n",
    "# Uma vez que a matriz deveria ser infinita\n",
    "\n",
    "def psi_n(n,x): # para uma matriz 100x100\n",
    "    psi0 = 0\n",
    "    for m in range(100):\n",
    "        psi0 += psi100[m,n] * np.sin(np.pi * (m+1) * x / L)\n",
    "    return psi0\n",
    "\n",
    "x = np.linspace(0,L,100)\n",
    "y0 = np.zeros(x.shape)\n",
    "y1 = np.zeros(x.shape)\n",
    "y2 = np.zeros(x.shape)\n",
    "\n",
    "for i in range(100): \n",
    "    y0[i] = psi_n(0,x[i]) **2\n",
    "    y1[i] = psi_n(1,x[i]) **2\n",
    "    y2[i] = psi_n(2,x[i]) **2\n",
    "    \n",
    "plt.plot(x, y0, \"ko\")\n",
    "plt.plot(x, y1, \"go\")\n",
    "plt.plot(x, y2, \"bo\")\n",
    "plt.legend((\"$\\psi_0$\",\"$\\psi_1$\",\"$\\psi_2$\"))\n",
    "plt.show()"
   ]
  },
  {
   "cell_type": "code",
   "execution_count": null,
   "metadata": {},
   "outputs": [],
   "source": []
  }
 ],
 "metadata": {
  "kernelspec": {
   "display_name": "Python 3",
   "language": "python",
   "name": "python3"
  },
  "language_info": {
   "codemirror_mode": {
    "name": "ipython",
    "version": 3
   },
   "file_extension": ".py",
   "mimetype": "text/x-python",
   "name": "python",
   "nbconvert_exporter": "python",
   "pygments_lexer": "ipython3",
   "version": "3.9.4"
  }
 },
 "nbformat": 4,
 "nbformat_minor": 4
}
