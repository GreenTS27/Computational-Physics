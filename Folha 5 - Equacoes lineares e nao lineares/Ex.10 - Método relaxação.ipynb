{
 "cells": [
  {
   "cell_type": "markdown",
   "metadata": {},
   "source": [
    "### Método de relaxação\n",
    "#### $$ x_2 = f(x_1) $$\n",
    "\n",
    "### $$ erro = \\frac{x_1 - x_2}{1 - \\frac{1}{f'(x_1)}}  $$\n",
    "#### Neste caso \n",
    "#### $$ x = 1 - e^{-cx} $$"
   ]
  },
  {
   "cell_type": "code",
   "execution_count": 1,
   "metadata": {},
   "outputs": [
    {
     "data": {
      "image/png": "[encoded data removed]",
      "text/plain": [
       "<Figure size 432x288 with 1 Axes>"
      ]
     },
     "metadata": {
      "needs_background": "light"
     },
     "output_type": "display_data"
    }
   ],
   "source": [
    "import numpy as np\n",
    "import matplotlib.pyplot as plt\n",
    "\n",
    "precisao = 10**-6\n",
    "\n",
    "def Relaxacao(c):\n",
    "    x2 = 1.0 # valor inicial \n",
    "    erro = 1.0\n",
    "    while abs(erro) > precisao: \n",
    "        x1 = x2\n",
    "        x2 = 1 - np.e**(-c*x1) #f(x1)\n",
    "        erro = (x1-x2) / (1 - 1/(c*np.e**(-c*x1)) )\n",
    "    return x2\n",
    "\n",
    "c = np.linspace(0.01,3,300) # em passos de 0.01\n",
    "y = np.zeros(c.shape)\n",
    "for i in range(300):\n",
    "    y[i] = g(c[i])\n",
    "    \n",
    "plt.plot(c, y, \"g.\")\n",
    "plt.show()"
   ]
  }
 ],
 "metadata": {
  "kernelspec": {
   "display_name": "Python 3",
   "language": "python",
   "name": "python3"
  },
  "language_info": {
   "codemirror_mode": {
    "name": "ipython",
    "version": 3
   },
   "file_extension": ".py",
   "mimetype": "text/x-python",
   "name": "python",
   "nbconvert_exporter": "python",
   "pygments_lexer": "ipython3",
   "version": "3.9.4"
  }
 },
 "nbformat": 4,
 "nbformat_minor": 4
}
