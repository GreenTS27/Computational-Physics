{
 "cells": [
  {
   "cell_type": "markdown",
   "metadata": {},
   "source": [
    "### Método de sobre relaxação\n",
    "### $$ erro = \\frac{x_1 - x_2}{1 - \\frac{1}{(1+\\omega)f'(x_1)-\\omega}}$$\n",
    "#### Neste caso \n",
    "#### $$ x = 1 - e^{-cx} $$"
   ]
  },
  {
   "cell_type": "code",
   "execution_count": 3,
   "metadata": {},
   "outputs": [
    {
     "name": "stdout",
     "output_type": "stream",
     "text": [
      "Método relaxação\n",
      "Número de iterações = 14\n",
      "0.7968126311118457\n",
      "---------------\n",
      "Método sobre-relaxação\n",
      "Número de iterações = 6\n",
      "0.7974866394625985\n"
     ]
    }
   ],
   "source": [
    "import numpy as np\n",
    "import matplotlib.pyplot as plt\n",
    "\n",
    "precisao = 10**-6\n",
    "###############################################################\n",
    "def relax(c):\n",
    "    iteracoes = 0\n",
    "    x2 = 1.0 # valor inicial \n",
    "    erro = 1.0\n",
    "    while abs(erro) > precisao: \n",
    "        x1 = x2\n",
    "        x2 = 1 - np.e**(-c*x1) #f(x1)\n",
    "        erro = (x1-x2) / (1 - 1/(c*np.e**(-c*x1)) )\n",
    "        iteracoes += 1\n",
    "    print(\"Número de iterações =\", iteracoes)\n",
    "    return x2\n",
    "print(\"Método relaxação\")\n",
    "print(relax(2))\n",
    "################################################################\n",
    "print(\"---------------\")\n",
    "\n",
    "def sobre_relax(c,w):\n",
    "    iteracoes = 0\n",
    "    x2 = 1.0 # valor inicial \n",
    "    erro = 1.0\n",
    "    while abs(erro) > precisao: \n",
    "        x1 = x2\n",
    "        x2 = 1 - np.e**(-c*x1) #f(x1)\n",
    "        erro = (x1-x2) / (1 - 1/((1+w)*c*np.e**(-c*x1)-w) )\n",
    "        iteracoes += 1\n",
    "    print(\"Número de iterações =\", iteracoes)\n",
    "    return x2\n",
    "\n",
    "print(\"Método sobre-relaxação\")\n",
    "print( sobre_relax(2,0.68) ) # 0.68 foi obtido por tentativa erro, comecei em 0.5\n",
    "\n",
    "# We might want to use an omega < 0 if at each iteration the function overshoots the solution, i.e., we start at x=2\n",
    "# and the next iteration gives x=3, but the solution is 2.5"
   ]
  },
  {
   "cell_type": "markdown",
   "metadata": {},
   "source": [
    "##### Podemos querer usar  $\\omega < 0$, caso a função esteja sempre a retornar valores superiores à solução (estiver a dar overshoot)\n",
    "##### Isto é, começar com $x=2$ e a próxima iterração retornar $x=3$, mesmo que a solução seja $x=2.5$"
   ]
  },
  {
   "cell_type": "code",
   "execution_count": null,
   "metadata": {},
   "outputs": [],
   "source": []
  }
 ],
 "metadata": {
  "kernelspec": {
   "display_name": "Python 3",
   "language": "python",
   "name": "python3"
  },
  "language_info": {
   "codemirror_mode": {
    "name": "ipython",
    "version": 3
   },
   "file_extension": ".py",
   "mimetype": "text/x-python",
   "name": "python",
   "nbconvert_exporter": "python",
   "pygments_lexer": "ipython3",
   "version": "3.9.4"
  }
 },
 "nbformat": 4,
 "nbformat_minor": 4
}
