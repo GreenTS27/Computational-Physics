{
 "cells": [
  {
   "cell_type": "markdown",
   "metadata": {},
   "source": [
    "##### $$ x = y \\, (a+x^2) \\qquad y = \\frac{b}{a+x^2} $$\n",
    "##### Neste caso $\\qquad a=1 \\qquad b=2 \\, $, portanto\n",
    "##### $$ x = b = 2 \\qquad y =  \\frac{b}{a+b^2} = \\frac{2}{5} = 0.4 $$"
   ]
  },
  {
   "cell_type": "code",
   "execution_count": 49,
   "metadata": {},
   "outputs": [
    {
     "name": "stdout",
     "output_type": "stream",
     "text": [
      "Número de iterações = 22\n",
      "(2.0, 0.400001697659211)\n"
     ]
    }
   ],
   "source": [
    "import numpy as np\n",
    "\n",
    "precisao = 10**-6\n",
    "a = 1\n",
    "b = 2\n",
    "\n",
    "def f1(x,y):\n",
    "    return y*(a+x**2)\n",
    "def g1(x,y):\n",
    "    return b/(a+x**2)\n",
    "\n",
    "def f2(x,y):\n",
    "    return np.sqrt(b/y - a)\n",
    "def g2(x,y):\n",
    "    return x / (a+x**2)\n",
    "\n",
    "def relax(f,g):\n",
    "    iteracoes = 0\n",
    "    x2 = 0.5 # valor inicial , valor diferente pode dar resultado melhor \n",
    "    y2 = 0.5 # valor inicial\n",
    "    \n",
    "    erro1 = 1.0\n",
    "    erro2 = 1.0\n",
    "    while abs(erro1) > precisao and abs(erro2) > precisao:\n",
    "        if iteracoes > 10**6:\n",
    "            print(\"Número de iterações =\", iteracoes)\n",
    "            return \"Demasiadas iterações, o nº não converge.\"\n",
    "        \n",
    "        x1 = x2\n",
    "        y1 = y2\n",
    "        x2 = f(x1,y1)\n",
    "        y2 = g(x1,y1)\n",
    "        \n",
    "        erro1 = (x1-x2) / (1 - 1/(2*x2*x1) )\n",
    "        erro2 = (y1-y2) / (1 - 1/(-2*b*y1 / (a+y1**2)**2) )\n",
    "        \n",
    "        iteracoes += 1\n",
    "    print(\"Número de iterações =\", iteracoes)\n",
    "    return x2,y2\n",
    "\n",
    "print(relax(f2,g2))"
   ]
  },
  {
   "cell_type": "markdown",
   "metadata": {},
   "source": []
  }
 ],
 "metadata": {
  "kernelspec": {
   "display_name": "Python 3",
   "language": "python",
   "name": "python3"
  },
  "language_info": {
   "codemirror_mode": {
    "name": "ipython",
    "version": 3
   },
   "file_extension": ".py",
   "mimetype": "text/x-python",
   "name": "python",
   "nbconvert_exporter": "python",
   "pygments_lexer": "ipython3",
   "version": "3.9.4"
  }
 },
 "nbformat": 4,
 "nbformat_minor": 4
}
