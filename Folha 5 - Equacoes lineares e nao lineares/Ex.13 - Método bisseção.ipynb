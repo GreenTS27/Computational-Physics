{
 "cells": [
  {
   "cell_type": "markdown",
   "metadata": {},
   "source": [
    "#### Método de bisseção\n",
    "\n",
    "1. Given an initial pair of points $x1$,$x2$, check that $f(x1)$ and $f(x2)$ have\n",
    "opposite signs. Also choose a target accuracy for the answer you want.\n",
    "2. Calculate the midpoint $x' = \\frac{1}{2}(x_1 + x_2)$ and evaluate $f(x')$.\n",
    "3. If $f( x')$ has the same sign as $f ( x1)$ then set $x1 = x'$. Otherwise set $x2 = x'$.\n",
    "4. If $|x1 - x2|$ is greater than the target accuracy, repeat from step 2. Otherwise,\n",
    "calculate $\\frac{1}{2}(x_1 + x_2)$ once more and this is the final estimate of the\n",
    "position of the root.\n",
    "\n",
    "Neste caso,\n",
    "$$ f(x) = 5e^{-x} + x - 5 = 0 $$\n",
    "$$ x = \\, ? $$\n",
    "$$ b = \\frac{hc}{k_Bx} = ? $$"
   ]
  },
  {
   "cell_type": "code",
   "execution_count": 3,
   "metadata": {},
   "outputs": [
    {
     "name": "stdout",
     "output_type": "stream",
     "text": [
      "5772.454227781519\n"
     ]
    }
   ],
   "source": [
    "import numpy as np\n",
    "import scipy.constants as sc\n",
    "\n",
    "\n",
    "def Bissect(x1,x2,func,precisao):\n",
    "    if func(x1) * func(x2) <= 0 :\n",
    "        while abs(x1-x2) > precisao:\n",
    "            x_med = (x1+x2) / 2\n",
    "            if func(x_med) * func(x1) > 0:\n",
    "                x1 = x_med\n",
    "            else:\n",
    "                x2 = x_med\n",
    "        return (x1+x2) / 2 \n",
    "    else:\n",
    "        return \"Arranja funções ou valores de jeito faz favore\"\n",
    "    \n",
    "    \n",
    "def f(x):\n",
    "        return 5*np.e**(-x) + x - 5    \n",
    "    \n",
    "# const de Wein = b = 2,8977685 * 10^(-3)  m.K\n",
    "b = sc.h*sc.c / ( sc.k * Bissect(4,6,f,10**-6) ) \n",
    "#print(b) \n",
    "\n",
    "comp_onda = 502 * 10**-9 #m\n",
    "# Temperatura à superície do Sol = T = 5778  K\n",
    "T = b / comp_onda\n",
    "print(T)\n",
    "\n",
    "#print(Bissect(4,6,f,10**-6))"
   ]
  },
  {
   "cell_type": "code",
   "execution_count": 4,
   "metadata": {},
   "outputs": [],
   "source": [
    "def Bissect2(f,a,b,tol,max_iter): #inclui um máximo de iterações\n",
    "    for i in range(max_iter):\n",
    "        x_est=(a+b)/2    \n",
    "        if f(a)*f(x_est)<0: \n",
    "            b=x_est\n",
    "        else: \n",
    "            a=x_est\n",
    "        if np.abs(f(x_est))<tol:\n",
    "            break\n",
    "    if i==max_iter-1: \n",
    "        print('No solution after %d iterations' %max_iter)\n",
    "        return\n",
    "    else:\n",
    "        return x_est"
   ]
  },
  {
   "cell_type": "code",
   "execution_count": null,
   "metadata": {},
   "outputs": [],
   "source": []
  }
 ],
 "metadata": {
  "kernelspec": {
   "display_name": "Python 3",
   "language": "python",
   "name": "python3"
  },
  "language_info": {
   "codemirror_mode": {
    "name": "ipython",
    "version": 3
   },
   "file_extension": ".py",
   "mimetype": "text/x-python",
   "name": "python",
   "nbconvert_exporter": "python",
   "pygments_lexer": "ipython3",
   "version": "3.9.4"
  }
 },
 "nbformat": 4,
 "nbformat_minor": 4
}
