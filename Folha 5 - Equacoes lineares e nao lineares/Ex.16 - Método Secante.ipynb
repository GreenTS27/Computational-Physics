{
 "cells": [
  {
   "cell_type": "code",
   "execution_count": 9,
   "metadata": {},
   "outputs": [
    {
     "name": "stdout",
     "output_type": "stream",
     "text": [
      "r = 326045071.66535544 metros\n",
      "r/R = 0.8481921739473347\n"
     ]
    }
   ],
   "source": [
    "import numpy as np\n",
    "\n",
    "G = 6.674 * 10**-11 #m3 kg-1 s-2,\n",
    "M = 5.974 * 10**24 #kg,\n",
    "m = 7.348 * 10**22 #kg,\n",
    "R = 3.844 * 10**8 #m,\n",
    "w = 2.662 * 10**-6 #s-1\n",
    "\n",
    "f = lambda r: G*M/r**2 - G*m/(R-r)**2 - w**2 *r\n",
    "\n",
    "\n",
    "def RaizSecante(funç , x1 , x2, precisão):\n",
    "    delta = 1.0\n",
    "    while abs(delta)>precisão:\n",
    "        x3 = x2 - funç(x2) * (x2-x1)/(funç(x2) - funç(x1))\n",
    "        x1 = x2\n",
    "        x2 = x3\n",
    "        delta = x2 - x1\n",
    "    return x3\n",
    "\n",
    "\n",
    "print(\"r =\" , RaizSecante(f,1,2,10**-12), \"metros\")\n",
    "print(\"r/R =\" , RaizSecante(f,1,2,10**-12) / R)"
   ]
  },
  {
   "cell_type": "code",
   "execution_count": null,
   "metadata": {},
   "outputs": [],
   "source": []
  }
 ],
 "metadata": {
  "kernelspec": {
   "display_name": "Python 3",
   "language": "python",
   "name": "python3"
  },
  "language_info": {
   "codemirror_mode": {
    "name": "ipython",
    "version": 3
   },
   "file_extension": ".py",
   "mimetype": "text/x-python",
   "name": "python",
   "nbconvert_exporter": "python",
   "pygments_lexer": "ipython3",
   "version": "3.9.4"
  }
 },
 "nbformat": 4,
 "nbformat_minor": 4
}
