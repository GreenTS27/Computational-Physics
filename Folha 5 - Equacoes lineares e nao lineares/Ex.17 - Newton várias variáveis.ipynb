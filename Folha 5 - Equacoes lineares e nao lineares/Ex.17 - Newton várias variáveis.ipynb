{
 "cells": [
  {
   "cell_type": "markdown",
   "metadata": {},
   "source": [
    "$$J \\centerdot \\Delta x = f(x)$$\n",
    "Sabemos os valores de $J$ e de $f(x)$, portanto conseguímos obter o valor de $\\Delta$ através do uso de:\n",
    "\n",
    "delta = np.linalg.solve(J,v)\n",
    "$$ x' = x - \\Delta $$\n",
    "Sendo que $x'$ é a nova aproximação"
   ]
  },
  {
   "cell_type": "code",
   "execution_count": 4,
   "metadata": {},
   "outputs": [
    {
     "name": "stdout",
     "output_type": "stream",
     "text": [
      "V1 = 3.042200013549186\t V2 = 2.436699627704035\n"
     ]
    }
   ],
   "source": [
    "import numpy as np\n",
    "\n",
    "V_positivo = 5 #V\n",
    "VT = 0.05 #V\n",
    "R1 = 1000 #ohm\n",
    "R2 = 4000 #ohm\n",
    "R3 = 3000 #ohm\n",
    "R4 = 2000 #ohm\n",
    "I0 = 3*10**-9 #A\n",
    "\n",
    "f1 = lambda V1,V2: (V1-V_positivo)/R1 + V1/R2 + I0*(np.e**( (V1-V2)/VT ) - 1)\n",
    "f2 = lambda V1,V2: (V_positivo-V2)/R3 - V2/R4 + I0*(np.e**( (V1-V2)/VT ) - 1)\n",
    "\n",
    "def dParcial(f, x, y): # derivada parcial, 2 variáveis\n",
    "    #método diferença central\n",
    "    h = 10 ** -5\n",
    "    df_dx = (f(x + h/2 , y) - f(x - h/2 , y)) / h\n",
    "    df_dy = (f(x , y + h/2) - f(x , y - h/2)) / h\n",
    "    return df_dx , df_dy\n",
    "\n",
    "########### Comparar derivada analítica com a da função dParcial(f, x, y) ##############\n",
    "# dfx , dfy = del_difCentral(f1,2,3)\n",
    "# print(\"derivada o programa =\",dfx)\n",
    "# df1_dV1 = lambda V1,V2: 1/R1 + 1/R2 + I0/VT*np.e**( (V1-V2)/VT )\n",
    "# print(\"derivada analítica =\",df1_dV1(2,3))\n",
    "########################################################################################\n",
    "\n",
    "V1 = 3.0\n",
    "V2 = 2.5\n",
    "V1_= 3.0\n",
    "V2_= 2.5\n",
    "\n",
    "precisão = 10**-4\n",
    "delta = np.array([1.0 , 1.0],float)\n",
    "while abs(delta[0])>precisão or abs(delta[1])>precisão:\n",
    "    df1_dV1 , df1_dV2 = dParcial(f1, V1, V2)\n",
    "    df2_dV1 , df2_dV2 = dParcial(f2, V1, V2)\n",
    "    \n",
    "    #print(dParcial(f1, V1, V2))\n",
    "    \n",
    "    J = np.array([[df1_dV1 , df1_dV2],\n",
    "                  [df2_dV1 , df2_dV2]],float)\n",
    "    \n",
    "    v = np.array([f1(V1,V2),f2(V1,V2)],float)\n",
    "    \n",
    "    delta = np.linalg.solve(J,v)\n",
    "\n",
    "    V1 , V2 = V1_ , V2_\n",
    "    V1_ -=   delta[0] \n",
    "    V2_ -=   delta[1]\n",
    "\n",
    "print('V1 = {}\\t V2 = {}'.format(V1_,V2_))"
   ]
  },
  {
   "cell_type": "code",
   "execution_count": 6,
   "metadata": {},
   "outputs": [
    {
     "name": "stdout",
     "output_type": "stream",
     "text": [
      "V1 = 3.042200013549186\t V2 = 2.436699627704035\n"
     ]
    }
   ],
   "source": [
    "def RaizNewton2(funç1, funç2, d_funçoes, V1, V2, V1_, V2_, precisão):\n",
    "\n",
    "    delta = np.array([1.0 , 1.0],float)\n",
    "    while abs(delta[0])>precisão or abs(delta[1])>precisão:\n",
    "        df1_dV1 , df1_dV2 = d_funçoes(funç1, V1, V2)\n",
    "        df2_dV1 , df2_dV2 = d_funçoes(funç2, V1, V2)\n",
    "\n",
    "        J = np.array([[df1_dV1 , df1_dV2],\n",
    "                      [df2_dV1 , df2_dV2]],float)\n",
    "\n",
    "        v = np.array([funç1(V1,V2),funç2(V1,V2)],float)\n",
    "\n",
    "        delta = np.linalg.solve(J,v)\n",
    "\n",
    "        V1 , V2 = V1_ , V2_\n",
    "        V1_ -=   delta[0] \n",
    "        V2_ -=   delta[1]\n",
    "\n",
    "    return V1_ , V2_\n",
    "\n",
    "\n",
    "a,b = RaizNewton2(f1,f2,dParcial, 3.0, 2.5, 3.0, 2.5, 10**-4)\n",
    "print('V1 = {}\\t V2 = {}'.format(a,b))"
   ]
  },
  {
   "cell_type": "code",
   "execution_count": null,
   "metadata": {},
   "outputs": [],
   "source": []
  }
 ],
 "metadata": {
  "kernelspec": {
   "display_name": "Python 3",
   "language": "python",
   "name": "python3"
  },
  "language_info": {
   "codemirror_mode": {
    "name": "ipython",
    "version": 3
   },
   "file_extension": ".py",
   "mimetype": "text/x-python",
   "name": "python",
   "nbconvert_exporter": "python",
   "pygments_lexer": "ipython3",
   "version": "3.9.4"
  }
 },
 "nbformat": 4,
 "nbformat_minor": 4
}
