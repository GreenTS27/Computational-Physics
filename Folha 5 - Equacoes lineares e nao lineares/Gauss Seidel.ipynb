{
 "cells": [
  {
   "cell_type": "markdown",
   "id": "46e25246-42ff-4027-ae7e-5b77952d00fa",
   "metadata": {},
   "source": [
    "## Gauss Seidel"
   ]
  },
  {
   "cell_type": "code",
   "execution_count": 2,
   "id": "a6576423-b97e-4a92-a883-37c7c4c161f4",
   "metadata": {},
   "outputs": [
    {
     "name": "stdin",
     "output_type": "stream",
     "text": [
      "Enter tolerable error:  0.0001\n"
     ]
    },
    {
     "name": "stdout",
     "output_type": "stream",
     "text": [
      "\n",
      "Count\tx\ty\tz\n",
      "\n",
      "1\t0.8500\t-1.0275\t1.0109\n",
      "\n",
      "2\t1.0025\t-0.9998\t0.9998\n",
      "\n",
      "3\t1.0000\t-1.0000\t1.0000\n",
      "\n",
      "4\t1.0000\t-1.0000\t1.0000\n",
      "\n",
      "\n",
      "Solution: x=1.000, y=-1.000 and z = 1.000\n",
      "\n"
     ]
    }
   ],
   "source": [
    "\n",
    "# Gauss Seidel Iteration\n",
    "\n",
    "# Defining equations to be solved\n",
    "# in diagonally dominant form\n",
    "f1 = lambda x,y,z: (17-y+2*z)/20\n",
    "f2 = lambda x,y,z: (-18-3*x+z)/20\n",
    "f3 = lambda x,y,z: (25-2*x+3*y)/20\n",
    "\n",
    "# Initial setup\n",
    "x0 = 0\n",
    "y0 = 0\n",
    "z0 = 0\n",
    "count = 1\n",
    "\n",
    "# Reading tolerable error\n",
    "e = float(input('Enter tolerable error: '))\n",
    "\n",
    "# Implementation of Gauss Seidel Iteration\n",
    "print('\\nCount\\tx\\ty\\tz\\n')\n",
    "\n",
    "condition = True\n",
    "\n",
    "while condition:\n",
    "    x1 = f1(x0,y0,z0)\n",
    "    y1 = f2(x1,y0,z0)\n",
    "    z1 = f3(x1,y1,z0)\n",
    "    print('%d\\t%0.4f\\t%0.4f\\t%0.4f\\n' %(count, x1,y1,z1))\n",
    "    e1 = abs(x0-x1);\n",
    "    e2 = abs(y0-y1);\n",
    "    e3 = abs(z0-z1);\n",
    "    \n",
    "    count += 1\n",
    "    x0 = x1\n",
    "    y0 = y1\n",
    "    z0 = z1\n",
    "    \n",
    "    condition = e1>e and e2>e and e3>e\n",
    "\n",
    "print('\\nSolution: x=%0.3f, y=%0.3f and z = %0.3f\\n'% (x1,y1,z1))"
   ]
  },
  {
   "cell_type": "code",
   "execution_count": null,
   "id": "32f22f44-ae65-491c-bcd4-e2ab0f293510",
   "metadata": {},
   "outputs": [],
   "source": []
  }
 ],
 "metadata": {
  "kernelspec": {
   "display_name": "Python 3",
   "language": "python",
   "name": "python3"
  },
  "language_info": {
   "codemirror_mode": {
    "name": "ipython",
    "version": 3
   },
   "file_extension": ".py",
   "mimetype": "text/x-python",
   "name": "python",
   "nbconvert_exporter": "python",
   "pygments_lexer": "ipython3",
   "version": "3.9.4"
  }
 },
 "nbformat": 4,
 "nbformat_minor": 5
}
