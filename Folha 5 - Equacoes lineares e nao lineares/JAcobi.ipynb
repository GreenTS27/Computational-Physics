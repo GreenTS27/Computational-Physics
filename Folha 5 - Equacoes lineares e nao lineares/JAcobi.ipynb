{
 "cells": [
  {
   "cell_type": "code",
   "execution_count": 3,
   "id": "abe64ed3-2b23-4f44-98d8-d416f14d187a",
   "metadata": {},
   "outputs": [
    {
     "name": "stdout",
     "output_type": "stream",
     "text": [
      "A:\n",
      "array([[2., 1.],\n",
      "       [5., 7.]])\n",
      "b:\n",
      "array([11., 13.])\n",
      "x:\n",
      "array([ 7.11110202, -3.22220342])\n"
     ]
    }
   ],
   "source": [
    "from pprint import pprint\n",
    "from numpy import array, zeros, diag, diagflat, dot\n",
    "\n",
    "def jacobi(A,b,N=25,x=None):\n",
    "    \"\"\"Solves the equation Ax=b via the Jacobi iterative method.\"\"\"\n",
    "    # Create an initial guess if needed                                                                                                                                                            \n",
    "    if x is None:\n",
    "        x = zeros(len(A[0]))\n",
    "\n",
    "    # Create a vector of the diagonal elements of A                                                                                                                                                \n",
    "    # and subtract them from A                                                                                                                                                                     \n",
    "    D = diag(A)\n",
    "    R = A - diagflat(D)\n",
    "\n",
    "    # Iterate for N times                                                                                                                                                                          \n",
    "    for i in range(N):\n",
    "        x = (b - dot(R,x)) / D\n",
    "    return x\n",
    "\n",
    "A = array([[2.0,1.0],[5.0,7.0]])\n",
    "b = array([11.0,13.0])\n",
    "guess = array([1.0,1.0])\n",
    "\n",
    "sol = jacobi(A,b,N=25,x=guess)\n",
    "\n",
    "print(\"A:\")\n",
    "pprint(A)\n",
    "\n",
    "print(\"b:\")\n",
    "pprint(b)\n",
    "\n",
    "print(\"x:\")\n",
    "pprint(sol)"
   ]
  },
  {
   "cell_type": "code",
   "execution_count": null,
   "id": "b5f54f1d-fb55-46bb-ba8e-6344bc1380ed",
   "metadata": {},
   "outputs": [],
   "source": []
  }
 ],
 "metadata": {
  "kernelspec": {
   "display_name": "Python 3",
   "language": "python",
   "name": "python3"
  },
  "language_info": {
   "codemirror_mode": {
    "name": "ipython",
    "version": 3
   },
   "file_extension": ".py",
   "mimetype": "text/x-python",
   "name": "python",
   "nbconvert_exporter": "python",
   "pygments_lexer": "ipython3",
   "version": "3.9.4"
  }
 },
 "nbformat": 4,
 "nbformat_minor": 5
}
