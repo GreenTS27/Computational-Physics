{
 "cells": [
  {
   "cell_type": "code",
   "execution_count": 1,
   "id": "2d1d82d7-7ee5-4251-963f-3ba6488ec9ca",
   "metadata": {},
   "outputs": [
    {
     "data": {
      "image/png": "[encoded data removed]",
      "text/plain": [
       "<Figure size 432x288 with 1 Axes>"
      ]
     },
     "metadata": {
      "needs_background": "light"
     },
     "output_type": "display_data"
    }
   ],
   "source": [
    "from scipy.linalg import solve_banded\n",
    "from numpy import matmul, exp, linspace, array, zeros, empty\n",
    "from pylab import plot, show, ylabel, xlabel\n",
    "\n",
    "# Constants\n",
    "m = 9.109 * 10 ** -31  # electron mass\n",
    "L = 10 ** -8  # m\n",
    "x0 = L / 2\n",
    "sigma = 10 ** -10  # m\n",
    "k = 5 * 10 ** 10  # 1/m\n",
    "h_bar = 6.626 * 10 ** -34\n",
    "N = 1000  # number of spatial slices\n",
    "a = L / N  # spatial distance between points\n",
    "h = 10 ** -18  # time step in seconds\n",
    "\n",
    "a1 = 1 + 1j * h * h_bar / (2 * m * a ** 2)\n",
    "a2 = - h * h_bar * 1j / (4 * m * a ** 2)\n",
    "b1 = 1 - 1j * h * h_bar / (2 * m * a ** 2)\n",
    "b2 = - a2\n",
    "\n",
    "\n",
    "def psi_0(x):\n",
    "    return exp(-(x - x0) ** 2 / (2 * sigma ** 2)) * exp(1j * k * x)\n",
    "\n",
    "# initial conditions\n",
    "x_points = linspace(0, L, N + 1)\n",
    "psi = array(list(map(psi_0, x_points)), complex)\n",
    "\n",
    "psi[0] = psi[N - 1] = 0\n",
    "\n",
    "#Create the matrix A\n",
    "# A = zeros([N + 1, N + 1], complex)\n",
    "# A[0, 0] = a1\n",
    "# A[0, 1] = a2\n",
    "# A[N, N - 1] = a2\n",
    "# A[N, N] = a1\n",
    "# for i in range(N):\n",
    "#     A[i, i - 1] = a2\n",
    "#     A[i, i] = a1\n",
    "#     A[i, i + 1] = a2\n",
    "\n",
    "# # Create the matrix B\n",
    "# B = zeros([N + 1, N + 1], complex)\n",
    "# B[0, 0] = b1\n",
    "# B[0, 1] = b2\n",
    "# B[N, N - 1] = b2\n",
    "# B[N, N] = b1\n",
    "# for i in range(N):\n",
    "#     B[i, i - 1] = b2\n",
    "#     B[i, i] = b1\n",
    "#     B[i, i + 1] = b2\n",
    "\n",
    "# Create the matrix A in the form appropriate for the function solve_banded\n",
    "A2 = empty([3, N + 1], complex)\n",
    "A2[0, 0] = 0\n",
    "A2[0, 1:] = a2\n",
    "A2[1, :] = a1\n",
    "A2[2, 0: N] = a2\n",
    "A2[2, N] = 0\n",
    "\n",
    "# Main loop\n",
    "# store the wavefunction at each time step in a list\n",
    "solution = [psi]\n",
    "for i in range(500):\n",
    "    psi[1: N] = b1 * psi[1: N] + b2 * (psi[2:] + psi[0: N - 1])\n",
    "    psi = solve_banded((1, 1), A2, psi)\n",
    "    solution.append(psi)\n",
    "\n",
    "plot(x_points, abs(solution[0]) ** 2)\n",
    "plot(x_points, abs(solution[50]) ** 2)\n",
    "plot(x_points, abs(solution[250]) ** 2)\n",
    "plot(x_points, abs(solution[320]) ** 2)\n",
    "xlabel(\"x (m)\")\n",
    "ylabel(\"$\\psi(x)$\")\n",
    "show()\n",
    "#a onda foi refletida"
   ]
  },
  {
   "cell_type": "code",
   "execution_count": null,
   "id": "3c85d819-6a5f-49ba-b91d-6dcb52cdd8fa",
   "metadata": {},
   "outputs": [],
   "source": []
  }
 ],
 "metadata": {
  "kernelspec": {
   "display_name": "Python 3",
   "language": "python",
   "name": "python3"
  },
  "language_info": {
   "codemirror_mode": {
    "name": "ipython",
    "version": 3
   },
   "file_extension": ".py",
   "mimetype": "text/x-python",
   "name": "python",
   "nbconvert_exporter": "python",
   "pygments_lexer": "ipython3",
   "version": "3.9.4"
  }
 },
 "nbformat": 4,
 "nbformat_minor": 5
}
